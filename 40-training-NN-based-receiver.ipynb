{
 "cells": [
  {
   "cell_type": "markdown",
   "metadata": {},
   "source": [
    "# Model training\n",
    "\n",
    "In progress..."
   ]
  },
  {
   "cell_type": "code",
   "execution_count": null,
   "metadata": {},
   "outputs": [],
   "source": [
    "from config import *\n",
    "import torch\n",
    "from models_local import ResidualBlock\n",
    "from models_local import Model\n",
    "import torch.nn as nn\n",
    "import torch.optim as optim\n",
    "\n",
    "from OFDM_SDR_Functions_torch import *\n",
    "import numpy as np\n",
    "import random\n",
    "from torch.utils.data import Dataset\n",
    "from torch.utils.data import DataLoader"
   ]
  },
  {
   "cell_type": "markdown",
   "metadata": {},
   "source": [
    "Create the dataset (defined in config file), and load data from disk."
   ]
  },
  {
   "cell_type": "code",
   "execution_count": null,
   "metadata": {},
   "outputs": [],
   "source": [
    "dataset = CustomDataset()\n",
    "dataset = torch.load('ofdm_dataset.pth')"
   ]
  },
  {
   "cell_type": "markdown",
   "metadata": {},
   "source": [
    "Create a torch model for the receiver. The structure follows the DeepRX (https://arxiv.org/abs/2005.01494) structure, but is simplified and lighter, probably resulting in worse performance on higher modulation orders.\n",
    "\n",
    "NOTE THAT THIS IS NOT YET FUNCTIONAL."
   ]
  },
  {
   "cell_type": "code",
   "execution_count": null,
   "metadata": {},
   "outputs": [],
   "source": [
    "###################### Simple DeepRX-type Neural Network Receiver, PyTorch model #############################\n",
    "import torch\n",
    "import torch.nn as nn\n",
    "import torch.nn.functional as F\n",
    "\n",
    "class ResidualBlock(nn.Module):\n",
    "    def __init__(self, num_conv_channels):\n",
    "        super(ResidualBlock, self).__init__()\n",
    "\n",
    "        # Layer normalization is done over the last three dimensions: time, frequency, conv 'channels'\n",
    "        self.layer_norm_1 = nn.LayerNorm((num_conv_channels, None), elementwise_affine=False)\n",
    "        self.conv_1 = nn.Conv2d(num_conv_channels, num_conv_channels, kernel_size=3, padding=1)\n",
    "\n",
    "        # Layer normalization is done over the last three dimensions: time, frequency, conv 'channels'\n",
    "        self.layer_norm_2 = nn.LayerNorm((num_conv_channels, None), elementwise_affine=False)\n",
    "        self.conv_2 = nn.Conv2d(num_conv_channels, num_conv_channels, kernel_size=3, padding=1)\n",
    "\n",
    "    def forward(self, inputs):\n",
    "        z = self.layer_norm_1(inputs)\n",
    "        z = F.relu(z)\n",
    "        z = self.conv_1(z)\n",
    "        z = self.layer_norm_2(z)\n",
    "        z = F.relu(z)\n",
    "        z = self.conv_2(z)\n",
    "\n",
    "        # Skip connection\n",
    "        z = z + inputs\n",
    "\n",
    "        return z\n",
    "\n",
    "###############################################\n",
    "\n",
    "\n",
    "class Model(nn.Module):\n",
    "    def __init__(self, num_conv_channels, num_bits_per_symbol):\n",
    "        super(Model, self).__init__()\n",
    "\n",
    "        # Input convolution\n",
    "        self.input_conv = nn.Conv2d(num_conv_channels, num_conv_channels, kernel_size=3, padding=1)\n",
    "\n",
    "        # Residual blocks\n",
    "        self.res_block_1 = ResidualBlock(num_conv_channels)\n",
    "        self.res_block_2 = ResidualBlock(num_conv_channels)\n",
    "        self.res_block_3 = ResidualBlock(num_conv_channels)\n",
    "        self.res_block_4 = ResidualBlock(num_conv_channels)\n",
    "\n",
    "        # Output convolution\n",
    "        self.output_conv = nn.Conv2d(num_conv_channels, num_bits_per_symbol, kernel_size=3, padding=1)\n",
    "\n",
    "    def forward(self, inputs):\n",
    "        y, y2 = inputs\n",
    "\n",
    "        # Input convolution\n",
    "        z = self.input_conv(y)\n",
    "\n",
    "        # Residual blocks\n",
    "        z = self.res_block_1(z)\n",
    "        z = self.res_block_2(z)\n",
    "        z = self.res_block_3(z)\n",
    "        z = self.res_block_4(z)\n",
    "\n",
    "        # Output convolution\n",
    "        z = self.output_conv(z)\n",
    "\n",
    "        return z\n",
    "\n",
    "#####################################################################################################################\n",
    "\n",
    "model = Model(ResidualBlock, 1) # create an instance of the model"
   ]
  },
  {
   "cell_type": "markdown",
   "metadata": {},
   "source": [
    "Load the torch dataloader, set the optimizer and loss functions."
   ]
  },
  {
   "cell_type": "code",
   "execution_count": null,
   "metadata": {},
   "outputs": [],
   "source": [
    "train_loader = torch.utils.data.DataLoader(dataset, batch_size=2, shuffle=True)\n",
    "optimizer = optim.Adam(model.parameters(), lr=0.001)\n",
    "criterion = nn.BCELoss()"
   ]
  },
  {
   "cell_type": "code",
   "execution_count": null,
   "metadata": {},
   "outputs": [],
   "source": [
    "#make a training loop\n",
    "num_epochs = 100\n",
    "\n",
    "# Training loop\n",
    "for epoch in range(num_epochs):\n",
    "    total_loss = 0.0\n",
    "\n",
    "    for pilot_iq, pdsch_iq, labels in data_loader:\n",
    "        # Zero the gradients\n",
    "        optimizer.zero_grad()\n",
    "\n",
    "        # Forward pass\n",
    "        outputs = model(pilot_iq, pdsch_iq)\n",
    "        \n",
    "        # Compute the loss\n",
    "        loss = criterion(outputs, labels)\n",
    "\n",
    "        # Backward pass\n",
    "        loss.backward()\n",
    "\n",
    "        # Update the weights\n",
    "        optimizer.step()\n",
    "\n",
    "        # Accumulate the total loss\n",
    "        total_loss += loss.item()\n",
    "\n",
    "    # Print average loss for the epoch\n",
    "    average_loss = total_loss / len(data_loader)\n",
    "    print(f\"Epoch [{epoch+1}/{num_epochs}], Loss: {average_loss:.4f}\")\n",
    "\n",
    "# Save the trained model if needed\n",
    "torch.save(model.state_dict(), 'data/rx_model.pth')\n"
   ]
  },
  {
   "cell_type": "code",
   "execution_count": null,
   "metadata": {},
   "outputs": [],
   "source": []
  }
 ],
 "metadata": {
  "kernelspec": {
   "display_name": "pluto311",
   "language": "python",
   "name": "python3"
  },
  "language_info": {
   "codemirror_mode": {
    "name": "ipython",
    "version": 3
   },
   "file_extension": ".py",
   "mimetype": "text/x-python",
   "name": "python",
   "nbconvert_exporter": "python",
   "pygments_lexer": "ipython3",
   "version": "3.11.6"
  }
 },
 "nbformat": 4,
 "nbformat_minor": 2
}

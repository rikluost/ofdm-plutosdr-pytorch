{
 "cells": [
  {
   "cell_type": "markdown",
   "metadata": {},
   "source": [
    "# Model training\n",
    "\n"
   ]
  },
  {
   "cell_type": "code",
   "execution_count": 11,
   "metadata": {},
   "outputs": [
    {
     "name": "stdout",
     "output_type": "stream",
     "text": [
      "mps\n"
     ]
    }
   ],
   "source": [
    "from config import *\n",
    "import torch\n",
    "\n",
    "from OFDM_SDR_Functions_torch_v2 import *\n",
    "import numpy as np\n",
    "from torch.utils.data import Dataset\n",
    "from torch.utils.data import DataLoader\n",
    "import torch.nn.functional as tFunc # usually F, but that is reserved for other use\n",
    "import csv\n",
    "import os\n",
    "import time\n",
    "\n",
    "from torch.utils.data import ConcatDataset\n",
    "\n",
    "\n",
    "device = torch.device(\"cuda:0\" if torch.cuda.is_available() else (\"mps\" if torch.backends.mps.is_available() else \"cpu\"))\n",
    "print(device)\n",
    "\n",
    "batch_size = 128"
   ]
  },
  {
   "cell_type": "markdown",
   "metadata": {},
   "source": [
    "## Dataloader\n",
    "Load dataset and validation dataset created earlier and make the torch dataloaders. The dataset structure is defined in the `config.py` file."
   ]
  },
  {
   "cell_type": "code",
   "execution_count": 12,
   "metadata": {},
   "outputs": [],
   "source": [
    "# Assuming you have two datasets: dataset1 and dataset2\n",
    "dataset_sdr = torch.load(f'data/ofdm_dataset_{Qm}_{Fp}_sdr.pth', weights_only=False)\n",
    "dataset_sim = torch.load(f'data/ofdm_dataset_{Qm}_{Fp}_sim.pth', weights_only=False)\n",
    "dataset = ConcatDataset([dataset_sdr, dataset_sim])\n",
    "\n",
    "train_loader = DataLoader(dataset=dataset, batch_size=batch_size, shuffle=True, pin_memory=False, num_workers=4, drop_last=True)\n",
    "\n",
    "#val_set = CustomDataset()\n",
    "valset_sdr = torch.load(f'data/ofdm_valset_{Qm}_{Fp}_sdr.pth', weights_only=False)\n",
    "valset_sim = torch.load(f'data/ofdm_valset_{Qm}_{Fp}_sim.pth', weights_only=False)\n",
    "val_set = ConcatDataset([valset_sdr, valset_sim])\n",
    "val_loader = DataLoader(dataset=val_set, batch_size=batch_size, shuffle=True, pin_memory=False, num_workers=4, drop_last=True)"
   ]
  },
  {
   "cell_type": "markdown",
   "metadata": {},
   "source": [
    "## NN-receiver model\n",
    "The model architecture is stored in `models_local.py`. "
   ]
  },
  {
   "cell_type": "code",
   "execution_count": 13,
   "metadata": {},
   "outputs": [],
   "source": [
    "from models_local import *\n",
    "model = RXModel_2(Qm).to(device)"
   ]
  },
  {
   "cell_type": "markdown",
   "metadata": {},
   "source": [
    "## Set the optimizer and loss function. \n",
    "\n"
   ]
  },
  {
   "cell_type": "code",
   "execution_count": null,
   "metadata": {},
   "outputs": [],
   "source": [
    "import torch.optim as optim\n",
    "\n",
    "# Define the model's learning rate, optimizer and the loss function\n",
    "initial_lr = 0.001\n",
    "final_lr = 0.00002\n",
    "num_epochs = 150\n",
    "optimizer = optim.Adam(model.parameters(), lr=initial_lr)\n",
    "\n",
    "def logarithmic_decay(step):\n",
    "    if step == 0:\n",
    "        return 1  # to ensure the initial learning rate is used at the beginning\n",
    "    decay_rate = np.log(final_lr / initial_lr) / (num_epochs - 1)\n",
    "    return np.exp(decay_rate * step)\n",
    "\n",
    "scheduler = optim.lr_scheduler.LambdaLR(optimizer, lr_lambda=logarithmic_decay)\n",
    "criterion = nn.BCELoss() #measures the Binary Cross Entropy between the target and the input probabilities:"
   ]
  },
  {
   "cell_type": "markdown",
   "metadata": {},
   "source": [
    "## Load earlier model for further training if exists"
   ]
  },
  {
   "cell_type": "code",
   "execution_count": 15,
   "metadata": {},
   "outputs": [
    {
     "name": "stdout",
     "output_type": "stream",
     "text": [
      "Existing model loaded from data/models/rx_model_4_8_130.pth, Resuming from epoch 130\n"
     ]
    }
   ],
   "source": [
    "saved_model_path = 'data/models/rx_model_4_8_130.pth' # the model to look for\n",
    "\n",
    "if os.path.exists(saved_model_path):\n",
    "    checkpoint = torch.load(saved_model_path, map_location=device)\n",
    "    model.load_state_dict(checkpoint['model_state_dict'])\n",
    "    start_epoch = checkpoint['epoch'] + 1\n",
    "    print(f\"Existing model loaded from {saved_model_path}, Resuming from epoch {start_epoch}\")\n",
    "else:\n",
    "    start_epoch = 0\n",
    "    print(\"No saved model found. Training from scratch.\")"
   ]
  },
  {
   "cell_type": "markdown",
   "metadata": {},
   "source": [
    "## Create CSV for saving model performance during training"
   ]
  },
  {
   "cell_type": "code",
   "execution_count": 16,
   "metadata": {},
   "outputs": [],
   "source": [
    "\n",
    "performance_csv_path = f'data/performance_monitor_{Qm}_{Fp}.csv'\n",
    "train_losses = []\n",
    "val_losses = []\n",
    "val_BERs = []\n",
    "\n",
    "# Check if a performance CSV file exists\n",
    "if not os.path.exists(performance_csv_path):\n",
    "    # Create a new CSV file and write headers\n",
    "    with open(performance_csv_path, mode='w', newline='') as csv_file:\n",
    "        fieldnames = ['Epoch', 'Training_Loss', 'Validation_Loss', 'Validation_BER']\n",
    "        writer = csv.DictWriter(csv_file, fieldnames=fieldnames)\n",
    "        writer.writeheader()\n"
   ]
  },
  {
   "cell_type": "markdown",
   "metadata": {},
   "source": [
    "## Create OFDM block mask"
   ]
  },
  {
   "cell_type": "code",
   "execution_count": 17,
   "metadata": {},
   "outputs": [],
   "source": [
    "TTI_mask_RE = OFDM_block_mask(S=S,F=F, Fp=Fp, Sp=Sp, FFT_offset=FFT_offset, plotOFDM_block=False).to(device) # TTI mask"
   ]
  },
  {
   "cell_type": "markdown",
   "metadata": {},
   "source": [
    "## Training loop"
   ]
  },
  {
   "cell_type": "code",
   "execution_count": 18,
   "metadata": {},
   "outputs": [],
   "source": [
    "def labels4d23d(batch_size, labels): # function for rehsaping the OFDM block\n",
    "    TTI_mask_indices = torch.where(TTI_mask_RE==1)\n",
    "    TTI_3d = torch.zeros((batch_size, TTI_mask_RE.shape[0], TTI_mask_RE.shape[1], Qm)).to(device)\n",
    "    row_indices, col_indices = TTI_mask_indices\n",
    "    TTI_3d[:, row_indices, col_indices, :] = labels.clone().detach().to(device)\n",
    "    return TTI_3d"
   ]
  },
  {
   "cell_type": "code",
   "execution_count": null,
   "metadata": {},
   "outputs": [
    {
     "name": "stdout",
     "output_type": "stream",
     "text": [
      "Epoch 131/150 - Batch 413/61950 | Est. time left: 1781:42"
     ]
    },
    {
     "name": "stderr",
     "output_type": "stream",
     "text": [
      "/Users/riku/projects_mac/ofdm-plutosdr-pytorch/.conda/lib/python3.11/site-packages/torch/optim/lr_scheduler.py:243: UserWarning: The epoch parameter in `scheduler.step()` was not necessary and is being deprecated where possible. Please use `scheduler.step()` to step the scheduler. During the deprecation, if epoch is different from None, the closed form is used instead of the new chainable form, where available. Please open an issue if you are unable to replicate your use case: https://github.com/pytorch/pytorch/issues/new/choose.\n",
      "  warnings.warn(EPOCH_DEPRECATION_WARNING, UserWarning)\n"
     ]
    },
    {
     "name": "stdout",
     "output_type": "stream",
     "text": [
      "Epoch [131/150], Loss: 0.0866, Val Loss: 0.0598, Val BER: 0.0460, learning rate: 0.000033\n",
      "Epoch 132/150 - Batch 826/61950 | Est. time left: 1843:18Epoch [132/150], Loss: 0.0778, Val Loss: 0.0547, Val BER: 0.0460, learning rate: 0.000032\n",
      "Epoch 133/150 - Batch 1239/61950 | Est. time left: 1898:29Epoch [133/150], Loss: 0.0768, Val Loss: 0.0534, Val BER: 0.0450, learning rate: 0.000031\n",
      "Epoch 134/150 - Batch 1652/61950 | Est. time left: 1966:28Epoch [134/150], Loss: 0.0766, Val Loss: 0.0593, Val BER: 0.0470, learning rate: 0.000030\n",
      "Epoch 135/150 - Batch 2065/61950 | Est. time left: 1995:55Epoch [135/150], Loss: 0.0764, Val Loss: 0.0637, Val BER: 0.0490, learning rate: 0.000030\n",
      "Epoch 136/150 - Batch 2478/61950 | Est. time left: 2010:36Epoch [136/150], Loss: 0.0762, Val Loss: 0.0626, Val BER: 0.0580, learning rate: 0.000029\n",
      "Epoch 137/150 - Batch 2891/61950 | Est. time left: 2008:04Epoch [137/150], Loss: 0.0761, Val Loss: 0.0544, Val BER: 0.0460, learning rate: 0.000028\n",
      "Epoch 138/150 - Batch 3304/61950 | Est. time left: 2009:07Epoch [138/150], Loss: 0.0760, Val Loss: 0.0622, Val BER: 0.0520, learning rate: 0.000027\n",
      "Epoch 139/150 - Batch 3717/61950 | Est. time left: 1986:55Epoch [139/150], Loss: 0.0759, Val Loss: 0.0562, Val BER: 0.0440, learning rate: 0.000027\n",
      "Epoch 140/150 - Batch 4130/61950 | Est. time left: 1958:33Epoch [140/150], Loss: 0.0757, Val Loss: 0.0504, Val BER: 0.0390, learning rate: 0.000026\n",
      "Epoch 141/150 - Batch 4543/61950 | Est. time left: 2159:50Epoch [141/150], Loss: 0.0756, Val Loss: 0.0598, Val BER: 0.0500, learning rate: 0.000025\n",
      "Epoch 142/150 - Batch 4956/61950 | Est. time left: 2099:09Epoch [142/150], Loss: 0.0755, Val Loss: 0.0512, Val BER: 0.0410, learning rate: 0.000025\n",
      "Epoch 143/150 - Batch 5369/61950 | Est. time left: 2045:32Epoch [143/150], Loss: 0.0754, Val Loss: 0.0671, Val BER: 0.0560, learning rate: 0.000024\n",
      "Epoch 144/150 - Batch 5782/61950 | Est. time left: 1998:41Epoch [144/150], Loss: 0.0753, Val Loss: 0.0652, Val BER: 0.0540, learning rate: 0.000023\n",
      "Epoch 145/150 - Batch 6195/61950 | Est. time left: 1957:35Epoch [145/150], Loss: 0.0752, Val Loss: 0.0552, Val BER: 0.0460, learning rate: 0.000023\n",
      "Epoch 146/150 - Batch 6608/61950 | Est. time left: 1920:35Epoch [146/150], Loss: 0.0751, Val Loss: 0.0550, Val BER: 0.0420, learning rate: 0.000022\n",
      "Epoch 147/150 - Batch 7021/61950 | Est. time left: 1890:03Epoch [147/150], Loss: 0.0751, Val Loss: 0.0686, Val BER: 0.0600, learning rate: 0.000022\n",
      "Epoch 148/150 - Batch 7434/61950 | Est. time left: 1867:23Epoch [148/150], Loss: 0.0750, Val Loss: 0.0578, Val BER: 0.0490, learning rate: 0.000021\n",
      "Epoch 149/150 - Batch 7583/61950 | Est. time left: 1913:59"
     ]
    }
   ],
   "source": [
    "\n",
    "batch_index = 0\n",
    "# Training loop\n",
    "epoch_durations = []\n",
    "training_start_time = time.time()\n",
    "for epoch in range(start_epoch, num_epochs):\n",
    "    total_loss = 0.0    \n",
    "    #batch_index = 0\n",
    "    epoch_start_time = time.time()\n",
    "    for pdsch_iq,  labels, sinr in train_loader:\n",
    "        batch_start_time = time.time()\n",
    "        batch_index += 1\n",
    "        labels, sinr = labels.float().to(device), sinr.float().to(device)\n",
    "        \n",
    "        pdsch_iq_real = pdsch_iq.real.float()\n",
    "        pdsch_iq_imag = pdsch_iq.imag.float()\n",
    "        pdsch_iq = torch.stack([pdsch_iq_real, pdsch_iq_imag], dim=1).to(device)\n",
    "        #pdsch_iq,  labels, sinr = pdsch_iq, labels, sinr\n",
    "        sinr_weights = sinr / sinr.max()\n",
    "        optimizer.zero_grad()  # Zero the gradients\n",
    "        outputs = model((pdsch_iq))  # forward pass\n",
    "        TTI_3d = labels4d23d(batch_size, labels)\n",
    "        loss = criterion(outputs, TTI_3d)\n",
    "        weighted_loss = (loss * sinr_weights).mean()  # weigh the loss by SINR weights\n",
    "\n",
    "        weighted_loss.backward()  # backward pass\n",
    "        optimizer.step()  # update the weights\n",
    "        total_loss += loss.item()  # accumulate the loss\n",
    "        # --- Time estimation ---\n",
    "        elapsed_time = time.time() - training_start_time\n",
    "        batches_done = batch_index\n",
    "        total_batches = len(train_loader) * num_epochs\n",
    "        est_total_time = (elapsed_time / batches_done) * total_batches\n",
    "        est_remaining = est_total_time - elapsed_time\n",
    "        mins, secs = divmod(int(est_remaining), 60)\n",
    "\n",
    "        print(f\"\\rEpoch {epoch+1}/{num_epochs} - Batch {batch_index}/{total_batches} | Est. time left: {mins:02d}:{secs:02d}\", end='')\n",
    "\n",
    "    scheduler.step(epoch)     # Update the learning rate\n",
    "    average_loss = total_loss / len(train_loader)\n",
    "\n",
    "    # Validation\n",
    "    model.eval()  # Set the model to evaluation mode\n",
    "    \n",
    "    with torch.no_grad():\n",
    "        for val_pdsch_iq, val_labels, sinr in val_loader:\n",
    "            \n",
    "            val_labels, sinr = val_labels.float().to(device), sinr.float().to(device)\n",
    "            val_pdsch_iq_real = val_pdsch_iq.real.float()\n",
    "            val_pdsch_iq_imag = val_pdsch_iq.imag.float()\n",
    "            val_pdsch_iq = torch.stack([val_pdsch_iq_real, val_pdsch_iq_imag], dim=1).to(device)\n",
    "            \n",
    "            val_outputs = model((val_pdsch_iq)).to(device)\n",
    "            sinr_weights = sinr / sinr.max()\n",
    "\n",
    "            TTI_3d = labels4d23d(batch_size, val_labels).to(device)\n",
    "            val_loss = criterion(val_outputs, TTI_3d)\n",
    "            weighted_val_loss = (val_loss * sinr_weights).mean().to(device)  # weigh the loss by SINR weights\n",
    "            \n",
    "            binary_predictions = torch.round(val_outputs)   # Convert probabilities to binary predictions (0 or 1)\n",
    "\n",
    "            error_count = torch.sum(binary_predictions != TTI_3d).float()  # Count of unequal bits\n",
    "            #error_rate = error_count / len(TTI_3d.flatten())  # Error rate calculation\n",
    "            error_rate = error_count / TTI_3d.numel()\n",
    "            BER = torch.round(error_rate * 1000) / 1000  # Round to 3 decimal places\n",
    "            \n",
    "\n",
    "    model.train()  # Set the model back to training mode\n",
    "\n",
    "    # Save performance details during training\n",
    "    train_losses.append(average_loss)\n",
    "    val_losses.append(weighted_val_loss.item())\n",
    "    val_BERs.append(BER.item())\n",
    "\n",
    "    # Print validation loss after each epoch\n",
    "    print(f\"Epoch [{epoch + 1}/{num_epochs}], Loss: {average_loss:.4f}, Val Loss: {weighted_val_loss:.4f}, Val BER: {BER:.4f}, learning rate: {scheduler.get_last_lr()[0]:.6f}\")\n",
    "\n",
    "    # Save performance details in the CSV file\n",
    "    with open(performance_csv_path, mode='a', newline='') as csv_file:\n",
    "        writer = csv.writer(csv_file)\n",
    "        writer.writerow([epoch + 1, average_loss, val_loss.item(), BER.item()])\n",
    "\n",
    "    # Save the model after every iteration\n",
    "    checkpoint = {\n",
    "        'epoch': epoch,\n",
    "        'model_state_dict': model.state_dict(),\n",
    "    }\n",
    "    torch.save(checkpoint, f'data/models/rx_model_{Qm}_{Fp}_{epoch + 1}.pth')\n",
    "    \n",
    "# Save the final trained model\n",
    "checkpoint = {\n",
    "    'epoch': epoch,\n",
    "    'model_state_dict': model.state_dict(),\n",
    "}\n",
    "torch.save(checkpoint, f'data/rx_model_{Qm}_{Fp}.pth')\n"
   ]
  },
  {
   "cell_type": "markdown",
   "metadata": {},
   "source": [
    "## Visualize the model performance during training"
   ]
  },
  {
   "cell_type": "code",
   "execution_count": 1,
   "metadata": {},
   "outputs": [
    {
     "data": {
      "image/png": "[encoded data removed]",
      "text/plain": [
       "<Figure size 1000x500 with 1 Axes>"
      ]
     },
     "metadata": {},
     "output_type": "display_data"
    }
   ],
   "source": [
    "import pandas as pd\n",
    "\n",
    "# Load the uploaded CSV file\n",
    "file_path = \"data/performance_monitor_4_8.csv\"\n",
    "df = pd.read_csv(file_path)\n",
    "\n",
    "import matplotlib.pyplot as plt\n",
    "\n",
    "# Plot training and validation loss\n",
    "plt.figure(figsize=(10, 5))\n",
    "plt.plot(df['Epoch'], df['Training_Loss'], label='Training Loss', marker='o')\n",
    "plt.plot(df['Epoch'], df['Validation_Loss'], label='Validation Loss', marker='s')\n",
    "plt.xlabel('Epoch')\n",
    "plt.ylabel('Loss')\n",
    "plt.title('Training vs Validation Loss')\n",
    "plt.grid(True, linestyle='--', alpha=0.7)\n",
    "plt.legend()\n",
    "plt.tight_layout()\n",
    "plt.show()"
   ]
  }
 ],
 "metadata": {
  "kernelspec": {
   "display_name": "Python 3",
   "language": "python",
   "name": "python3"
  },
  "language_info": {
   "codemirror_mode": {
    "name": "ipython",
    "version": 3
   },
   "file_extension": ".py",
   "mimetype": "text/x-python",
   "name": "python",
   "nbconvert_exporter": "python",
   "pygments_lexer": "ipython3",
   "version": "3.11.12"
  }
 },
 "nbformat": 4,
 "nbformat_minor": 2
}

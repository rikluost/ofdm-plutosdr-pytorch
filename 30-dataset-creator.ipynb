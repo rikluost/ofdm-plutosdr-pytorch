{
 "cells": [
  {
   "cell_type": "markdown",
   "metadata": {},
   "source": [
    "# Model training dataset creation\n",
    "\n",
    "This notebook implements PyTorch dataset creation tools for training and monitoring the NN-based receiver training process."
   ]
  },
  {
   "cell_type": "code",
   "execution_count": null,
   "metadata": {},
   "outputs": [],
   "source": [
    "from config import *\n",
    "from OFDM_SDR_Functions_torch_v2 import *\n",
    "from SDR_Pluto_v2 import *\n",
    "import torch\n",
    "from torch.utils.data import Dataset\n",
    "import numpy as np\n",
    "import random\n",
    "\n",
    "# Configuration\n",
    "use_sdr = False # Set to `True` to use SDR for transmission and reception, `False` to run channel simulation.\n",
    "number_of_training_items = 5000 # generate large number for training, e.g. 50000, and small for validation, e.g. 1000\n",
    "training_set = False # True for saving as the training dataset, False for saving as validation/test dataset for monitoring the model training process.\n",
    "\n",
    "# sim parameters\n",
    "n_taps = 2 # max number of taps\n",
    "max_delay_spread = 3 # samples. Note that 128*15kHz sample duration is already ~500ns.\n",
    "ch_SINR_min = 5 # channel emulation min SINR\n",
    "ch_SINR_max = 30 # channel emulation max SINR\n",
    "velocity = 30 # velocity\n",
    "\n",
    "# SDR parameters\n",
    "randomize_tx_gain = True # randomize tx gain\n",
    "tx_gain_lo = -25# min tx gain\n",
    "tx_gain_hi = -3 # max tx gain\n",
    "rx_gain = 8 # rx gain\n"
   ]
  },
  {
   "cell_type": "markdown",
   "metadata": {},
   "source": [
    "## Create the modulation mapping and demapping tables, the TTI mask, and the pilot symbol sequence"
   ]
  },
  {
   "cell_type": "code",
   "execution_count": 11,
   "metadata": {},
   "outputs": [
    {
     "name": "stdout",
     "output_type": "stream",
     "text": [
      "14 1400 14\n"
     ]
    }
   ],
   "source": [
    "mapping_table_QPSK, de_mapping_table_QPSK = mapping_table(2) # mapping table QPSK (e.g. for pilot symbols)\n",
    "mapping_table_Qm, de_mapping_table_Qm = mapping_table(Qm, plot=False) # mapping table for Qm\n",
    "\n",
    "TTI_mask_RE = OFDM_block_mask(S=S,F=F, Fp=Fp, Sp=Sp, FFT_offset=FFT_offset, plotOFDM_block=False) # TTI mask\n",
    "print(TTI_mask_RE[TTI_mask_RE == 2].numel(), TTI_mask_RE[TTI_mask_RE == 1].numel(), TTI_mask_RE[TTI_mask_RE == 3].numel())\n",
    "pilot_symbols = pilot_set(TTI_mask_RE, 1) # pilot symbols"
   ]
  },
  {
   "cell_type": "markdown",
   "metadata": {},
   "source": [
    "## Initialize and Start The SDR\n",
    "\n",
    "Create a PlutoSDR object and configure it with the appropriate transmission parameters including RF bandwidth, carrier frequency, and hardware gain."
   ]
  },
  {
   "cell_type": "code",
   "execution_count": 12,
   "metadata": {},
   "outputs": [],
   "source": [
    "dstype='sim'\n",
    "if use_sdr:\n",
    "     SDR_1 = SDR(SDR_TX_IP=SDR_TX_IP, \n",
    "                           SDR_RX_IP=SDR_RX_IP,\n",
    "                           SDR_TX_FREQ=SDR_TX_Frequency, \n",
    "                           SDR_TX_GAIN=tx_gain, \n",
    "                           SDR_RX_GAIN = rx_gain, \n",
    "                           SDR_TX_SAMPLERATE=SampleRate, \n",
    "                           SDR_TX_BANDWIDTH=SDR_TX_BANDWIDTH)\n",
    "     SDR_1.SDR_TX_start()\n",
    "     SDR_1.SDR_RX_start()\n",
    "     dstype='sdr'\n"
   ]
  },
  {
   "cell_type": "markdown",
   "metadata": {},
   "source": [
    "## Make a custom torch dataset. \n",
    "\n",
    "The structure of the dataset is defined in the `config.py` file."
   ]
  },
  {
   "cell_type": "code",
   "execution_count": 13,
   "metadata": {},
   "outputs": [],
   "source": [
    "dataset = CustomDataset()"
   ]
  },
  {
   "cell_type": "markdown",
   "metadata": {},
   "source": [
    "## Create the bitstream and modulate it. \n",
    "Place the modulated symbols in the TTI, do the FFT and add cyclic prefix."
   ]
  },
  {
   "cell_type": "code",
   "execution_count": 14,
   "metadata": {},
   "outputs": [],
   "source": [
    "def create_OFDM_data():\n",
    "    pdsch_bits, pdsch_symbols  = create_payload(TTI_mask_RE, Qm, mapping_table_Qm,power=1) # PDSCH data bits stream, modulated symbols\n",
    "    Modulated_TTI = RE_mapping(TTI_mask_RE, pilot_symbols, pdsch_symbols, plotOFDM_block=False) # TTI with pilot and PDSCH symbols\n",
    "    TD_TTI_IQ = IFFT(Modulated_TTI) # TTI in time domain\n",
    "    TX_Samples = CP_addition(TD_TTI_IQ, S, FFT_size, CP) # TTI with cyclic prefix\n",
    "    if use_sdr:\n",
    "        zeros = torch.zeros(leading_zeros, dtype=TX_Samples.dtype) # create leading zeros for estimating noise floor power\n",
    "        TX_Samples = torch.cat((zeros, TX_Samples), dim=0) # add leading zeros to TX samples\n",
    "    return pdsch_bits, TX_Samples"
   ]
  },
  {
   "cell_type": "markdown",
   "metadata": {},
   "source": [
    "## Radio Channel"
   ]
  },
  {
   "cell_type": "code",
   "execution_count": 15,
   "metadata": {},
   "outputs": [],
   "source": [
    "def radio_channel(use_sdr, tx_signal, tx_gain, rx_gain, ch_SINR):\n",
    "    if use_sdr:\n",
    "        if randomize_tx_gain:\n",
    "            tx_gain = random.uniform(tx_gain_lo, tx_gain_hi) # add random gain to the TX gain\n",
    "        SDR_1.SDR_gain_set(tx_gain, rx_gain) # set the gain for TX and RX\n",
    "        SDR_1.SDR_TX_send(SAMPLES=tx_signal, max_scale=TX_Scale, cyclic=True, ) # start transmitting the symbols in cyclic mode\n",
    "        rx_signal = SDR_1.SDR_RX_receive(len(tx_signal)*4) # receive the signal with 4 times more samples than the length of the transmitted signal.\n",
    "        SDR_1.SDR_TX_stop() # stop the transmission\n",
    "    else:\n",
    "        rx_signal, h = apply_multipath_channel_dop(tx_signal, \n",
    "                                                   max_n_taps=n_taps, \n",
    "                                                   max_delay=max_delay_spread, \n",
    "                                                   random_start=True, \n",
    "                                                   repeats=3, \n",
    "                                                   SINR=ch_SINR, \n",
    "                                                   leading_zeros=leading_zeros,\n",
    "                                                   fc=SDR_TX_Frequency, \n",
    "                                                   velocity=velocity,\n",
    "                                                   fs=SampleRate)\n",
    "    return rx_signal"
   ]
  },
  {
   "cell_type": "markdown",
   "metadata": {},
   "source": [
    "## Create a loop to make data for the dataset"
   ]
  },
  {
   "cell_type": "code",
   "execution_count": 16,
   "metadata": {},
   "outputs": [
    {
     "name": "stdout",
     "output_type": "stream",
     "text": [
      "i=1, j=1\n",
      "i=1001, j=980\n",
      "i=2001, j=1959\n",
      "i=3001, j=2933\n",
      "i=4001, j=3907\n",
      "Testset saved\n"
     ]
    }
   ],
   "source": [
    "if use_sdr:\n",
    "    SDR_1.SDR_gain_set(tx_gain, rx_gain) # set the gains\n",
    "\n",
    "SINR_stats = []\n",
    "j=0\n",
    "for i in range(number_of_training_items):\n",
    "    ch_SINR = int(random.uniform(ch_SINR_min, ch_SINR_max)) # SINR generation for adding noise to the channel\n",
    "    pdsch_bits, TX_Samples = create_OFDM_data() # data stream\n",
    "    RX_Samples = radio_channel(use_sdr=use_sdr, tx_signal = TX_Samples, tx_gain = tx_gain, rx_gain = rx_gain, ch_SINR=ch_SINR) \n",
    "    symbol_index, symbol_index_maxarg=sync_iq(TX_Samples, RX_Samples, leading_zeros=leading_zeros, threshold= 6, plot=False)\n",
    "    if use_sdr:\n",
    "        symbol_index_maxarg = symbol_index_maxarg + leading_zeros\n",
    "    ch_SINR, noise_power, signal_power = SINR(RX_Samples, symbol_index_maxarg, leading_zeros) # calculate the SINR\n",
    "    RX_NO_CP = CP_removal(RX_Samples, symbol_index_maxarg, S, FFT_size, CP, plotsig=False)# remove cyclic prefix and other symbols created by convolution\n",
    "    RX_NO_CP = RX_NO_CP / torch.max(torch.abs(RX_NO_CP)) # normalize\n",
    "    OFDM_demod = DFT(RX_NO_CP, plotDFT=False) # DFT\n",
    "    OFDM_demod = extract_middle_subcarriers(OFDM_demod, FFT_size_RX)\n",
    "    OFDM_demod = OFDM_demod / torch.max(torch.abs(OFDM_demod)) # normalize DFT'd signal for NN input\n",
    "    if ch_SINR > 5:\n",
    "        dataset.add_item(OFDM_demod, pdsch_bits, ch_SINR) # add to dataset if measured SINR > 5\n",
    "        j=j+1\n",
    "    if use_sdr:\n",
    "        if i % 20 == 1 and use_sdr==True:\n",
    "            print(f'i={i}, SINR = {ch_SINR}dB')\n",
    "        if ch_SINR > 5:\n",
    "            SINR_stats.append(ch_SINR) # add to dataset if measured SINR > 5\n",
    "\n",
    "    if i % 1000 == 1 and use_sdr==False:\n",
    "        print(f'i={i}, j={j}')\n",
    "\n",
    "if training_set:\n",
    "    torch.save(dataset, f'data/ofdm_dataset_{Qm}_{Fp}_{dstype}.pth') # save dataset on disk\n",
    "    print('Dataset saved')\n",
    "else:\n",
    "    torch.save(dataset, f'data/ofdm_testset_{Qm}_{Fp}_{dstype}.pth') # save dataset on disk\n",
    "    print('Testset saved')   "
   ]
  },
  {
   "cell_type": "code",
   "execution_count": 17,
   "metadata": {},
   "outputs": [
    {
     "name": "stdout",
     "output_type": "stream",
     "text": [
      "Shape of the received symbols tensor: torch.Size([14, 128]),  and original modulated bits tensor torch.Size([1400, 4])\n"
     ]
    }
   ],
   "source": [
    "# print the last item in the dataset\n",
    "print(f'Shape of the received symbols tensor: {dataset.pdsch_iq[-1].shape},  and original modulated bits tensor {dataset.labels[-1].shape}') \n",
    "\n",
    "if use_sdr:\n",
    "    plt.figure(figsize=(8, 4))\n",
    "    plt.hist(SINR_stats, bins=20)\n",
    "    plt.xlabel('SINR')\n",
    "    plt.ylabel('Frequency')\n",
    "    plt.title('SDR SINR distribution')"
   ]
  },
  {
   "cell_type": "code",
   "execution_count": 18,
   "metadata": {},
   "outputs": [
    {
     "data": {
      "text/plain": [
       "1"
      ]
     },
     "execution_count": 18,
     "metadata": {},
     "output_type": "execute_result"
    }
   ],
   "source": [
    "torch.zeros(2 + 1, dtype=torch.complex64)\n",
    "torch.randint(0,3, (1,)).item()"
   ]
  }
 ],
 "metadata": {
  "kernelspec": {
   "display_name": "Python 3",
   "language": "python",
   "name": "python3"
  },
  "language_info": {
   "codemirror_mode": {
    "name": "ipython",
    "version": 3
   },
   "file_extension": ".py",
   "mimetype": "text/x-python",
   "name": "python",
   "nbconvert_exporter": "python",
   "pygments_lexer": "ipython3",
   "version": "3.11.12"
  }
 },
 "nbformat": 4,
 "nbformat_minor": 2
}

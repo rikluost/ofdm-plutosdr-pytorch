{
 "cells": [
  {
   "cell_type": "code",
   "execution_count": 2,
   "metadata": {},
   "outputs": [
    {
     "name": "stdout",
     "output_type": "stream",
     "text": [
      "False\n"
     ]
    }
   ],
   "source": [
    "import numpy as np\n",
    "\n",
    "# OFDM Parameters\n",
    "N_FFT = 64 # FFT size\n",
    "N_GUARD = 16 # Guard interval size \n",
    "\n",
    "# Generate random data and modulate \n",
    "data_symbols = np.random.randint(0, 4, N_FFT) # QPSK modulation\n",
    "data_mod = (2*data_symbols-1) + 1j*(2*data_symbols-1) \n",
    "\n",
    "# Create OFDM frame with IFFT\n",
    "ofdm_time = np.fft.ifft(data_mod)  \n",
    "\n",
    "# Add cyclic prefix \n",
    "ofdm_cp = np.hstack([ofdm_time[-N_GUARD:], ofdm_time])\n",
    "\n",
    "# Frequency offset/Doppler shift\n",
    "offset_hz = 10 # Hz \n",
    "offset = offset_hz * 2*np.pi/N_FFT   \n",
    "\n",
    "# Apply frequency shift\n",
    "offset_arr = offset*np.arange(len(ofdm_cp))\n",
    "ofdm_received = ofdm_cp * np.exp(1j*offset_arr)\n",
    "\n",
    "# Synchronization - Find cyclic prefix to align FFT window\n",
    "corr = np.convolve(ofdm_received, np.flip(ofdm_received[-N_GUARD:]))\n",
    "start = np.argmax(np.abs(corr))\n",
    "\n",
    "# Get FFT window and frequency correction\n",
    "sync_offset = offset*np.arange(start+N_FFT-start)\n",
    "sync_sig = ofdm_received[start:start+N_FFT] * np.exp(-1j*sync_offset)\n",
    "\n",
    "# Decode\n",
    "data_rx = np.fft.fft(sync_sig)  \n",
    "data_demod = (np.angle(data_rx)/np.pi) >= 0\n",
    "\n",
    "print(np.all(data_symbols==data_demod)) # Check if matches"
   ]
  }
 ],
 "metadata": {
  "kernelspec": {
   "display_name": "pluto311",
   "language": "python",
   "name": "python3"
  },
  "language_info": {
   "codemirror_mode": {
    "name": "ipython",
    "version": 3
   },
   "file_extension": ".py",
   "mimetype": "text/x-python",
   "name": "python",
   "nbconvert_exporter": "python",
   "pygments_lexer": "ipython3",
   "version": "3.11.6"
  }
 },
 "nbformat": 4,
 "nbformat_minor": 2
}

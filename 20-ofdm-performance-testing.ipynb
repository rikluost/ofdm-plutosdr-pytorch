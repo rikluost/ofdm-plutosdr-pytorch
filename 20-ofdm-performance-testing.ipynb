{
 "cells": [
  {
   "cell_type": "markdown",
   "metadata": {},
   "source": [
    "# OFDM System Performance Testing\n",
    "\n",
    "This notebook employs the same software libraries as those utilized in the Orthogonal Frequency-Division Multiplexing (OFDM) exemplar notebook, executing a cyclical process that incorporates stochastic variation of the transmission (TX) gain to amass data across a spectrum of radio environments. For the documentation and further elucidation of the underlying procedures, the reader is directed to consult the files 10-ofdm-example-func.ipynb, OFDM_SDR_Functions.py, and SDR_Pluto.py.\n",
    "\n",
    "A singular data stream is generated and subjected to the ofdm modulation. This modulated signal is then repeatedly retransmitted and received within a controlled loop. Concurrently, the radio channel characteristics and the transmit power are systematically varied. This methodology facilitates the aggregation of a dataset, which is instrumental in characterizing the statistical behavior of the system under a variety of environmental conditions and transmission power levels."
   ]
  },
  {
   "cell_type": "code",
   "execution_count": null,
   "metadata": {},
   "outputs": [],
   "source": [
    "import numpy as np\n",
    "import matplotlib.pyplot as plt\n",
    "import OFDM_SDR_Functions_torch\n",
    "import SDR_Pluto\n",
    "import random\n",
    "from config import *\n",
    "import torch\n",
    "\n",
    "\n",
    "\n",
    "# SDR Configuration\n",
    "use_sdr = False # True for SDR or False for CDL-C channel emulation\n",
    "\n",
    "# for SDR\n",
    "SDR_TX_Frequency = int(436e6) # SDR TX frequency\n",
    "tx_gain_min = -50 # sdr tx max gain\n",
    "tx_gain_max = 0 # sdr tx min gain\n",
    "rx_gain = 20 # sdr rx gain\n",
    "\n",
    "# in case SDR not available, for channel simulation\n",
    "ch_SINR_min = 0 # channel emulation min SINR\n",
    "ch_SINR_max = 50 # channel emulation max SINR\n",
    "\n",
    "# OFDM Configuration is stored in py"
   ]
  },
  {
   "cell_type": "markdown",
   "metadata": {},
   "source": [
    "## OFDM System Parameters\n",
    "\n",
    "### SDR Configuration (Optional)\n",
    "\n",
    "- `use_sdr` (`bool`): Set to `True` to use SDR for transmission and reception, or `False` to run the system in simulation mode.\n",
    "- `SDR_TX_Frequency` (`int`): SDR Transmission Frequency\n",
    "- `tx_gain` (`int`): Transmission gain for the SDR\n",
    "- `rx_gain` (`int`): Reception gain for the SDR\n",
    "- `tx_frequency` (`float`): Transmission frequency\n",
    "\n",
    "### 3GPP CDL-C Channel Simulation\n",
    "\n",
    "In case `use_sdr` is set to False:\n",
    "- `ch_SINR` (`int`): Signal-to-Interference-plus-Noise Ratio (SINR) for the CDL-C channel emulation\n",
    "\n",
    "### OFDM System Configuration\n",
    "\n",
    "- `Qm` (`int`): Modulation order\n",
    "- `F` (`int`): Number of subcarriers\n",
    "- `S` (`int`): Number of symbols,=\n",
    "- `FFT_size` (`int`): FFT size\n",
    "- `Fp` (`int`): Pilot subcarrier spacing\n",
    "- `Sp` (`int`): Pilot symbol spacing\n",
    "- `CP` (`int`): Cyclic Prefix length\n",
    "- `SCS` (`int`): Subcarrier spacing\n",
    "- `P` (`int`): Number of pilot subcarriers\n",
    "- `sn` (`int`): Serial number starting value\n",
    "- `Qm_sn` (`int`): Serial number modulation order\n",
    "- `FFT_offset` (`int`): FFT offset, calculated as (FFT size - Number of subcarriers)/2.\n",
    "- `SampleRate` (`float`): Sample rate, calculated as FFT size * Subcarrier spacing.\n",
    "- `Ts` (`float`): Sample duration, calculated as 1/(Subcarrier spacing * FFT size).\n",
    "- `TTI_duration` (`float`): TTI duration in ms, calculated using the provided formula.\n",
    "- `Pilot_Power` (`float`): Power allocated for the pilot signals\n",
    "- `PDSCH_power` (`float`): Power allocated for the PDSCH\n",
    "\n",
    "### SINR Measurement\n",
    "\n",
    "- `leading_zeros` (`int`): Number of symbols with zero value used for SINR measurement\n"
   ]
  },
  {
   "cell_type": "markdown",
   "metadata": {},
   "source": [
    "## Create the modulation tables and the TTI Mask, if you have an SDR, start it"
   ]
  },
  {
   "cell_type": "code",
   "execution_count": null,
   "metadata": {},
   "outputs": [],
   "source": [
    "mapping_table_QPSK, de_mapping_table_QPSK = OFDM_SDR_Functions_torch.mapping_table(2) # mapping table QPSK (e.g. for pilot symbols)\n",
    "mapping_table_Qm, de_mapping_table_Qm = OFDM_SDR_Functions_torch.mapping_table(Qm, plot=False) # mapping table for Qm\n",
    "\n",
    "TTI_mask_RE = OFDM_SDR_Functions_torch.TTI_mask(S=S,F=F, Fp=Fp, Sp=Sp, FFT_offset=FFT_offset, plotTTI=False)\n",
    "pilot_symbols = OFDM_SDR_Functions_torch.pilot_set(TTI_mask_RE, Pilot_Power)\n",
    "\n",
    "# start the SDR\n",
    "if use_sdr: \n",
    "    SDR_1 = SDR_Pluto.SDR(SDR_TX_IP=\"ip:192.168.1.10\", SDR_TX_FREQ=SDR_TX_Frequency, SDR_TX_GAIN=-80, SDR_RX_GAIN = 0, SDR_TX_SAMPLERATE=SampleRate, SDR_TX_BANDWIDTH=F*SCS*2)\n",
    "    SDR_1.SDR_TX_start()"
   ]
  },
  {
   "cell_type": "markdown",
   "metadata": {},
   "source": [
    "## Data stream creation OFDM Modulation, FFT, and Cyclic Prefix Addition"
   ]
  },
  {
   "cell_type": "code",
   "execution_count": null,
   "metadata": {},
   "outputs": [],
   "source": [
    "def create_OFDM_data():\n",
    "    pdsch_bits, pdsch_symbols = OFDM_SDR_Functions_torch.create_PDSCH_data(TTI_mask_RE, Qm, mapping_table_Qm, power=PDSCH_power)\n",
    "    Modulated_TTI = OFDM_SDR_Functions_torch.RE_mapping(TTI_mask_RE, pilot_symbols, pdsch_symbols, plotTTI=False)\n",
    "    TD_TTI_IQ = OFDM_SDR_Functions_torch.FFT(Modulated_TTI)\n",
    "    TX_Samples = OFDM_SDR_Functions_torch.CP_addition(TD_TTI_IQ, S, FFT_size, CP)\n",
    "    zeros = torch.zeros(leading_zeros, dtype=TX_Samples.dtype)\n",
    "    TX_Samples = torch.cat((zeros, TX_Samples), dim=0)\n",
    "    return pdsch_bits, TX_Samples\n",
    "\n",
    "pdsch_bits, TX_Samples = create_OFDM_data()"
   ]
  },
  {
   "cell_type": "markdown",
   "metadata": {},
   "source": [
    "## Radio Channel - Transmitting and Receiving OFDM Symbols with PlutoSDR or a simulated channel"
   ]
  },
  {
   "cell_type": "code",
   "execution_count": null,
   "metadata": {},
   "outputs": [],
   "source": [
    "def radio_channel(use_sdr, tx_signal, tx_gain, rx_gain, ch_SINR):\n",
    "    if use_sdr:\n",
    "        SDR_1.SDR_gain_set(tx_gain, rx_gain)\n",
    "        SDR_1.SDR_TX_send(SAMPLES=tx_signal, max_scale=1, cyclic=True)\n",
    "        rx_signal = SDR_1.SDR_RX_receive(len(tx_signal)*4)\n",
    "        SDR_1.SDR_TX_stop()\n",
    "    else:\n",
    "        rx_signal  = OFDM_SDR_Functions_torch.generate_cdl_c_impulse_response(tx_signal = tx_signal, num_samples=16, sampling_rate=SampleRate, SINR=ch_SINR, repeats = 4, random_start=True)\n",
    "    return rx_signal"
   ]
  },
  {
   "cell_type": "markdown",
   "metadata": {},
   "source": [
    "## Testing the performance - loop in various radio conditions"
   ]
  },
  {
   "cell_type": "code",
   "execution_count": null,
   "metadata": {},
   "outputs": [],
   "source": [
    "\n",
    "number_of_testcases = 1000\n",
    "\n",
    "SINR2BER_table = np.zeros((number_of_testcases,4))\n",
    "\n",
    "for i in range(number_of_testcases):\n",
    "    ch_SINR = int(random.uniform(ch_SINR_min, ch_SINR_max))\n",
    "    tx_gain_i = int(random.uniform(tx_gain_min, tx_gain_max))\n",
    "    RX_Samples = radio_channel(use_sdr=use_sdr, tx_signal = TX_Samples, tx_gain = tx_gain_i, rx_gain = rx_gain, ch_SINR = ch_SINR)\n",
    "    symbol_index=OFDM_SDR_Functions_torch.sync_TTI(TX_Samples, RX_Samples, leading_zeros)\n",
    "    SINR = OFDM_SDR_Functions_torch.SINR(RX_Samples, 100, symbol_index)\n",
    "    RX_NO_CP = OFDM_SDR_Functions_torch.CP_removal(RX_Samples, symbol_index, S, FFT_size, CP, plotsig=False)\n",
    "    RX_NO_CP = RX_NO_CP / torch.max(torch.abs(RX_NO_CP))\n",
    "    OFDM_demod = OFDM_SDR_Functions_torch.DFT(RX_NO_CP, plotDFT=False)\n",
    "    H_estim = OFDM_SDR_Functions_torch.channelEstimate_LS(TTI_mask_RE, pilot_symbols, F, FFT_offset, Sp, OFDM_demod, plotEst=False)\n",
    "    OFDM_demod_no_offsets = OFDM_SDR_Functions_torch.remove_fft_Offests(OFDM_demod, F, FFT_offset)\n",
    "    equalized_H_estim = OFDM_SDR_Functions_torch.equalize_ZF(OFDM_demod_no_offsets, H_estim, F, S)\n",
    "    QAM_est = OFDM_SDR_Functions_torch.get_payload_symbols(TTI_mask_RE, equalized_H_estim, FFT_offset, F, plotQAM=False)\n",
    "    PS_est, hardDecision = OFDM_SDR_Functions_torch.Demapping(QAM_est, de_mapping_table_Qm)\n",
    "    bits_est = OFDM_SDR_Functions_torch.PS(PS_est)\n",
    "    error_count = torch.sum(bits_est != pdsch_bits.flatten()).float()  # Count of unequal bits\n",
    "    error_rate = error_count / bits_est.numel()  # Error rate calculation\n",
    "    BER = torch.round(error_rate * 1000) / 1000  # Round to 3 decimal places\n",
    "    SINR2BER_table[i,0] = round(tx_gain_i,1)\n",
    "    SINR2BER_table[i,1] = round(rx_gain,1)\n",
    "    SINR2BER_table[i,2] = round(SINR[0],1)\n",
    "    SINR2BER_table[i,3] = BER"
   ]
  },
  {
   "cell_type": "markdown",
   "metadata": {},
   "source": [
    "### Create pretty picture"
   ]
  },
  {
   "cell_type": "code",
   "execution_count": null,
   "metadata": {},
   "outputs": [],
   "source": [
    "import pandas as pd\n",
    "\n",
    "df = pd.DataFrame(SINR2BER_table, columns=['txg', 'rxg', 'SINR', 'BER'])\n",
    "df['SINR_binned'] = pd.cut(df['SINR'], bins=range(-10, 40, 2), labels=range(-9, 39, 2))\n",
    "df_grouped = df.groupby('SINR_binned', observed=False).mean()\n",
    "\n",
    "plt.figure(figsize=(8, 4))\n",
    "plt.plot(df['SINR'], df['BER'], 'o', alpha=0.15, markersize=3)\n",
    "plt.xlabel('SINR (dB)')\n",
    "plt.ylabel('Uncoded BER')\n",
    "plt.plot(df_grouped['SINR'], df_grouped['BER'], '-o', color='blue')\n",
    "plt.title(f'OFDM System Uncoded Performance\\n Qm={Qm}, FFT_size={FFT_size}, F={F}, S={S}, Fp={Fp}, Sp={Sp}, CP={CP}, SCS={SCS}\\nPilot_P={Pilot_Power}, PDSCH_P={PDSCH_power}, freq={SDR_TX_Frequency}Hz')\n",
    "plt.xlim(0, 40)\n",
    "plt.yscale('log')\n",
    "plt.grid()\n",
    "plt.minorticks_on()\n",
    "plt.grid(which='minor', linestyle=':', linewidth='0.5', color='black')\n",
    "if save_plots:\n",
    "    plt.savefig('pics/Performance.png')\n",
    "plt.show()\n"
   ]
  },
  {
   "cell_type": "code",
   "execution_count": null,
   "metadata": {},
   "outputs": [],
   "source": []
  }
 ],
 "metadata": {
  "kernelspec": {
   "display_name": "Python 3.10.5 ('py310')",
   "language": "python",
   "name": "python3"
  },
  "language_info": {
   "codemirror_mode": {
    "name": "ipython",
    "version": 3
   },
   "file_extension": ".py",
   "mimetype": "text/x-python",
   "name": "python",
   "nbconvert_exporter": "python",
   "pygments_lexer": "ipython3",
   "version": "3.10.6"
  },
  "orig_nbformat": 4,
  "vscode": {
   "interpreter": {
    "hash": "7af69d84c46e0da4f71f361435e72c01e713b5d1fcbc89c051c042527a934273"
   }
  }
 },
 "nbformat": 4,
 "nbformat_minor": 2
}

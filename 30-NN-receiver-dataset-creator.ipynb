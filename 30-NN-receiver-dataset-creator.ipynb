{
 "cells": [
  {
   "cell_type": "markdown",
   "metadata": {},
   "source": [
    "# Model training dataset creation\n",
    "\n",
    "Work in progress"
   ]
  },
  {
   "cell_type": "code",
   "execution_count": 1,
   "metadata": {},
   "outputs": [],
   "source": [
    "from config import *\n",
    "import torch\n",
    "from OFDM_SDR_Functions_torch import *\n",
    "import numpy as np\n",
    "import random\n"
   ]
  },
  {
   "cell_type": "code",
   "execution_count": 2,
   "metadata": {},
   "outputs": [
    {
     "data": {
      "image/png": "[encoded data removed]",
      "text/plain": [
       "<Figure size 800x150 with 1 Axes>"
      ]
     },
     "metadata": {},
     "output_type": "display_data"
    }
   ],
   "source": [
    "mapping_table_QPSK, de_mapping_table_QPSK = mapping_table(2) # mapping table QPSK (e.g. for pilot symbols)\n",
    "mapping_table_Qm, de_mapping_table_Qm = mapping_table(Qm, plot=False) # mapping table for Qm\n",
    "\n",
    "TTI_mask_RE = TTI_mask(S=S,F=F, Fp=Fp, Sp=Sp, FFT_offset=FFT_offset, plotTTI=True)\n",
    "pilot_symbols = pilot_set(TTI_mask_RE, Pilot_Power)"
   ]
  },
  {
   "cell_type": "code",
   "execution_count": 3,
   "metadata": {},
   "outputs": [],
   "source": [
    "def create_OFDM_data():\n",
    "    pdsch_bits, pdsch_symbols = create_PDSCH_data(TTI_mask_RE, Qm, mapping_table_Qm, power=PDSCH_power)\n",
    "    Modulated_TTI = RE_mapping(TTI_mask_RE, pilot_symbols, pdsch_symbols, plotTTI=False)\n",
    "    TD_TTI_IQ = FFT(Modulated_TTI)\n",
    "    TX_Samples = CP_addition(TD_TTI_IQ, S, FFT_size, CP)\n",
    "    return pdsch_bits, TX_Samples"
   ]
  },
  {
   "cell_type": "code",
   "execution_count": 4,
   "metadata": {},
   "outputs": [],
   "source": [
    "import torch\n",
    "from torch.utils.data import Dataset\n",
    "\n",
    "class CustomDataset(Dataset):\n",
    "    def __init__(self):\n",
    "        self.pdsch_iq = []\n",
    "        self.pilot_iq = []\n",
    "        self.labels = []\n",
    "        \n",
    "    def __len__(self):\n",
    "        return len(self.pdsch_iq)\n",
    "    \n",
    "    def __getitem__(self, index):\n",
    "        x1 = self.pdsch_iq[index]\n",
    "        x2 = self.pilot_iq[index]\n",
    "        y = self.labels[index]\n",
    "        return x1, x2, y\n",
    "    \n",
    "    def add_item(self, new_pdsch_iq, new_pilot_iq, new_label):\n",
    "        self.pdsch_iq.append(new_pdsch_iq)\n",
    "        self.pilot_iq.append(new_pilot_iq)\n",
    "        self.labels.append(new_label)\n",
    "        \n",
    "dataset = CustomDataset()"
   ]
  },
  {
   "cell_type": "code",
   "execution_count": 5,
   "metadata": {},
   "outputs": [
    {
     "name": "stdout",
     "output_type": "stream",
     "text": [
      "0\n"
     ]
    }
   ],
   "source": [
    "number_of_training_items = 1000\n",
    "\n",
    "ch_SINR_min = 30 # channel emulation min SINR\n",
    "ch_SINR_max = 40 # channel emulation max SINR\n",
    "\n",
    "for i in range(number_of_training_items):\n",
    "    if i % 1000 == 0:\n",
    "        print(i)\n",
    "    ch_SINR = int(random.uniform(ch_SINR_min, ch_SINR_max)) # SINR generation\n",
    "    pdsch_bits, TX_Samples = create_OFDM_data() # data stream\n",
    "    RX_Samples = generate_cdl_c_impulse_response(tx_signal = TX_Samples, num_samples=100, sampling_rate=SampleRate, SINR=ch_SINR, repeats = 2, random_start=False) # convolve channel with tx signal\n",
    "    RX_NO_CP = CP_removal(RX_Samples, 0, S, FFT_size, CP, plotsig=False)\n",
    "    RX_NO_CP = RX_NO_CP / torch.max(torch.abs(RX_NO_CP))\n",
    "    OFDM_demod = DFT(RX_NO_CP, plotDFT=False)\n",
    "    pilot_symbols = get_pilot_symbols_raw(TTI_mask_RE, OFDM_demod)\n",
    "    pdsch_symbols = get_payload_symbols_raw(TTI_mask_RE, OFDM_demod)\n",
    "    dataset.add_item(pdsch_symbols, pilot_symbols, pdsch_bits)\n",
    "    \n",
    "torch.save(dataset, 'ofdm_dataset.pth')\n",
    "    "
   ]
  },
  {
   "cell_type": "code",
   "execution_count": 6,
   "metadata": {},
   "outputs": [
    {
     "name": "stdout",
     "output_type": "stream",
     "text": [
      "torch.Size([970]) torch.Size([24]) torch.Size([970, 4])\n"
     ]
    }
   ],
   "source": [
    "# print the last item in the dataset\n",
    "print(dataset.pdsch_iq[-1].shape, dataset.pilot_iq[-1].shape, dataset.labels[-1].shape) "
   ]
  },
  {
   "cell_type": "code",
   "execution_count": null,
   "metadata": {},
   "outputs": [],
   "source": []
  }
 ],
 "metadata": {
  "kernelspec": {
   "display_name": "pluto311",
   "language": "python",
   "name": "python3"
  },
  "language_info": {
   "codemirror_mode": {
    "name": "ipython",
    "version": 3
   },
   "file_extension": ".py",
   "mimetype": "text/x-python",
   "name": "python",
   "nbconvert_exporter": "python",
   "pygments_lexer": "ipython3",
   "version": "3.11.6"
  }
 },
 "nbformat": 4,
 "nbformat_minor": 2
}

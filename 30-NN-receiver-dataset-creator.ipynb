{
 "cells": [
  {
   "cell_type": "markdown",
   "metadata": {},
   "source": [
    "# Model training dataset creation\n",
    "\n",
    "This notebook implements training dataset creation tools for implementing a NN based receiver, which plugs in the DFT output and returns the bits (probabilities), and hence replaces the channel estimation, equalization and demapper functionalities entirely. (refer to https://arxiv.org/abs/2005.01494 for more) "
   ]
  },
  {
   "cell_type": "code",
   "execution_count": 1,
   "metadata": {},
   "outputs": [],
   "source": [
    "from config import *\n",
    "from OFDM_SDR_Functions_torch import *\n",
    "import torch\n",
    "from torch.utils.data import Dataset\n",
    "import numpy as np\n",
    "import random"
   ]
  },
  {
   "cell_type": "markdown",
   "metadata": {},
   "source": [
    "Create the modulation mapping and demapping tables, the TTI mask and place the pilot symbols in the mask."
   ]
  },
  {
   "cell_type": "code",
   "execution_count": 2,
   "metadata": {},
   "outputs": [],
   "source": [
    "mapping_table_QPSK, de_mapping_table_QPSK = mapping_table(2) # mapping table QPSK (e.g. for pilot symbols)\n",
    "mapping_table_Qm, de_mapping_table_Qm = mapping_table(Qm, plot=False) # mapping table for Qm\n",
    "\n",
    "TTI_mask_RE = TTI_mask(S=S,F=F, Fp=Fp, Sp=Sp, FFT_offset=FFT_offset, plotTTI=False) # TTI mask\n",
    "pilot_symbols = pilot_set(TTI_mask_RE, Pilot_Power) # pilot symbols"
   ]
  },
  {
   "cell_type": "markdown",
   "metadata": {},
   "source": [
    "Create the bitstream and modulate it. Place the modulated symbols in the TTI, do the FFT and add cyclic prefix."
   ]
  },
  {
   "cell_type": "code",
   "execution_count": 3,
   "metadata": {},
   "outputs": [],
   "source": [
    "def create_OFDM_data():\n",
    "    pdsch_bits, pdsch_symbols  = create_PDSCH_data(TTI_mask_RE, Qm, mapping_table_Qm, power=PDSCH_power) # PDSCH data bits stream, modulated symbols\n",
    "    Modulated_TTI = RE_mapping(TTI_mask_RE, pilot_symbols, pdsch_symbols, plotTTI=False) # TTI with pilot and PDSCH symbols\n",
    "    TD_TTI_IQ = FFT(Modulated_TTI) # TTI in time domain\n",
    "    TX_Samples = CP_addition(TD_TTI_IQ, S, FFT_size, CP) # TTI with cyclic prefix\n",
    "    return pdsch_bits, TX_Samples "
   ]
  },
  {
   "cell_type": "markdown",
   "metadata": {},
   "source": [
    "Make a custom torch dataset. The structure of the dataset is defined in the config file."
   ]
  },
  {
   "cell_type": "code",
   "execution_count": 4,
   "metadata": {},
   "outputs": [],
   "source": [
    "dataset = CustomDataset()"
   ]
  },
  {
   "cell_type": "markdown",
   "metadata": {},
   "source": [
    "Create a loop to make data for the dataset, and finally save it. To speed the process up, instead of using the SDR for radio channels creation, the implemented simple CDL-C radio channel model is used instead. The dataset is not shared in this repository due to it being easily very large. You can easily create your own."
   ]
  },
  {
   "cell_type": "code",
   "execution_count": null,
   "metadata": {},
   "outputs": [],
   "source": [
    "number_of_training_items = 50000\n",
    "\n",
    "ch_SINR_min = 20 # channel emulation min SINR\n",
    "ch_SINR_max = 40 # channel emulation max SINR\n",
    "\n",
    "for i in range(number_of_training_items):\n",
    "    if i % 100 == 0:\n",
    "        print(i)\n",
    "    ch_SINR = int(random.uniform(ch_SINR_min, ch_SINR_max)) # SINR generation for adding noise to the channel\n",
    "    pdsch_bits, TX_Samples = create_OFDM_data() # data stream\n",
    "    RX_Samples = generate_cdl_c_impulse_response(tx_signal = TX_Samples, num_samples=16, sampling_rate=SampleRate, SINR=ch_SINR, repeats = 2, random_start=False) # convolve channel with tx signal\n",
    "    RX_NO_CP = CP_removal(RX_Samples, 0, S, FFT_size, CP, plotsig=False) # remove cyclic prefix\n",
    "    RX_NO_CP = RX_NO_CP / torch.max(torch.abs(RX_NO_CP)) # normalize\n",
    "    OFDM_demod = DFT(RX_NO_CP, plotDFT=False) # DFT\n",
    "\n",
    "    # create pilot matrix as in the TTI mask\n",
    "    z, pilot_symbols_map = get_pilot_symbols_raw(TTI_mask_RE, OFDM_demod) # get pilot symbols\n",
    "    pilot_symbols_map = remove_fft_Offests(pilot_symbols_map, F, FFT_offset) # remove FFT offsets\n",
    "    pilot_symbols_map = torch.cat((pilot_symbols_map[:, :F//2], pilot_symbols_map[:, F//2 + 1:]), dim=1)# remove DC\n",
    "\n",
    "    \n",
    "    # create PDSCH matrix, the same shape\n",
    "    z2, pdsch_symbols_map = get_payload_symbols_raw(TTI_mask_RE, OFDM_demod) # get PDSCH symbols\n",
    "    pdsch_symbols_map = remove_fft_Offests(pdsch_symbols_map, F, FFT_offset) # remove FFT offsets\n",
    "    pdsch_symbols_map = torch.cat((pdsch_symbols_map[:, :F//2], pdsch_symbols_map[:, F//2 + 1:]), dim=1) # remove DC\n",
    "\n",
    "    # create bit stream matrix, again, the same shape\n",
    "    TTI_mask_indices = torch.where(TTI_mask_RE==1)\n",
    "    TTI_3d = torch.zeros((TTI_mask_RE.shape[0], TTI_mask_RE.shape[1], pdsch_bits.shape[1]), dtype=pdsch_bits.dtype)\n",
    "    row_indices, col_indices = TTI_mask_indices\n",
    "    TTI_3d[row_indices, col_indices, :] = pdsch_bits.clone().detach()\n",
    "    TTI_3d = remove_fft_Offests(TTI_3d, F, FFT_offset)\n",
    "    TTI_3d = torch.cat((TTI_3d[:, :F//2], TTI_3d[:, F//2 + 1:]), dim=1)  # remove DC\n",
    "  \n",
    "    dataset.add_item(pdsch_symbols_map, pilot_symbols_map, TTI_3d) # add to dataset\n",
    "    \n",
    "torch.save(dataset, 'data/ofdm_dataset.pth') # save dataset on disk\n",
    "    "
   ]
  },
  {
   "cell_type": "markdown",
   "metadata": {},
   "source": [
    "Check the shape of the training data inputs (data symbols, pilot symbols) and labels (bits). First two dimensions refer to number of symbols, and subcarriers correspondingly. The third dimension in the labels is the number of bits per symbol. E.g. 6 is 64QAM."
   ]
  },
  {
   "cell_type": "code",
   "execution_count": 6,
   "metadata": {},
   "outputs": [
    {
     "name": "stdout",
     "output_type": "stream",
     "text": [
      "Shape of the received symbols tensor: torch.Size([14, 71]), pilots tensor torch.Size([14, 71]), and original modulated bits tensor torch.Size([14, 71, 6])\n"
     ]
    }
   ],
   "source": [
    "# print the last item in the dataset\n",
    "print(f'Shape of the received symbols tensor: {dataset.pdsch_iq[-1].shape}, pilots tensor {dataset.pilot_iq[-1].shape}, and original modulated bits tensor {dataset.labels[-1].shape}') "
   ]
  },
  {
   "cell_type": "code",
   "execution_count": 7,
   "metadata": {},
   "outputs": [
    {
     "data": {
      "text/plain": [
       "Text(0.5, 1.0, 'Received Symbols after DFT')"
      ]
     },
     "execution_count": 7,
     "metadata": {},
     "output_type": "execute_result"
    },
    {
     "data": {
      "image/png": "[encoded data removed]",
      "text/plain": [
       "<Figure size 640x480 with 1 Axes>"
      ]
     },
     "metadata": {},
     "output_type": "display_data"
    }
   ],
   "source": [
    "plt.imshow(np.abs(dataset.pdsch_iq[-1].numpy()))\n",
    "plt.title('Received Symbols after DFT')"
   ]
  },
  {
   "cell_type": "markdown",
   "metadata": {},
   "source": [
    "`Shape of the received symbols tensor: torch.Size([14, 72]), pilots tensor torch.Size([14, 72]), and original modulated bits tensor torch.Size([14, 72, 6])`"
   ]
  },
  {
   "cell_type": "code",
   "execution_count": 8,
   "metadata": {},
   "outputs": [
    {
     "data": {
      "text/plain": [
       "Text(0.5, 1.0, 'Pilot Symbols after DFT')"
      ]
     },
     "execution_count": 8,
     "metadata": {},
     "output_type": "execute_result"
    },
    {
     "data": {
      "image/png": "[encoded data removed]",
      "text/plain": [
       "<Figure size 640x480 with 1 Axes>"
      ]
     },
     "metadata": {},
     "output_type": "display_data"
    }
   ],
   "source": [
    "plt.imshow(np.abs(dataset.pilot_iq[-1].numpy()))\n",
    "plt.title('Pilot Symbols after DFT')\n"
   ]
  },
  {
   "cell_type": "code",
   "execution_count": 9,
   "metadata": {},
   "outputs": [
    {
     "data": {
      "text/plain": [
       "Text(0.5, 1.0, 'Labels - Original Modulated Bits (sum of bits per symbol)')"
      ]
     },
     "execution_count": 9,
     "metadata": {},
     "output_type": "execute_result"
    },
    {
     "data": {
      "image/png": "[encoded data removed]",
      "text/plain": [
       "<Figure size 640x480 with 1 Axes>"
      ]
     },
     "metadata": {},
     "output_type": "display_data"
    }
   ],
   "source": [
    "color_values = dataset.labels[-1].sum(dim=-1)\n",
    "plt.imshow(color_values)\n",
    "plt.title('Labels - Original Modulated Bits (sum of bits per symbol)')"
   ]
  },
  {
   "cell_type": "code",
   "execution_count": null,
   "metadata": {},
   "outputs": [],
   "source": []
  },
  {
   "cell_type": "code",
   "execution_count": null,
   "metadata": {},
   "outputs": [],
   "source": []
  }
 ],
 "metadata": {
  "kernelspec": {
   "display_name": "pluto311",
   "language": "python",
   "name": "python3"
  },
  "language_info": {
   "codemirror_mode": {
    "name": "ipython",
    "version": 3
   },
   "file_extension": ".py",
   "mimetype": "text/x-python",
   "name": "python",
   "nbconvert_exporter": "python",
   "pygments_lexer": "ipython3",
   "version": "3.10.6"
  }
 },
 "nbformat": 4,
 "nbformat_minor": 2
}

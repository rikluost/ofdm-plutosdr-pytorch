{
 "cells": [
  {
   "cell_type": "markdown",
   "metadata": {},
   "source": []
  },
  {
   "cell_type": "markdown",
   "metadata": {},
   "source": [
    "# Receiver comparison with an over the air connection\n"
   ]
  },
  {
   "cell_type": "markdown",
   "metadata": {},
   "source": [
    "### Documentation not done, code need tidy ups still"
   ]
  },
  {
   "cell_type": "code",
   "execution_count": 1,
   "metadata": {},
   "outputs": [
    {
     "name": "stdout",
     "output_type": "stream",
     "text": [
      "cuda:0\n",
      "tensor([1.], device='cuda:0')\n"
     ]
    }
   ],
   "source": [
    "from config import *\n",
    "from OFDM_SDR_Functions_torch import *\n",
    "import torch\n",
    "from models_local import *\n",
    "from OFDM_SDR_Functions_torch import *\n",
    "from SDR_Pluto import *\n",
    "import pandas as pd\n",
    "import random\n",
    "\n",
    "device = torch.device(\"cuda:0\" if torch.cuda.is_available() else (\"mps\" if torch.backends.mps.is_available() else \"cpu\"))\n",
    "\n",
    "# Display the selected device\n",
    "print(device)\n",
    "\n",
    "# Test tensor creation on the selected device\n",
    "if device.type != \"cpu\":\n",
    "    x = torch.ones(1, device=device)\n",
    "    print(x)\n",
    "\n",
    "device = \"cpu\" # Force CPU for now, trouble with converting complex tensors to mps"
   ]
  },
  {
   "cell_type": "code",
   "execution_count": 2,
   "metadata": {},
   "outputs": [],
   "source": [
    "# for SDR\n",
    "SDR_TX_Frequency = int(435e6) # SDR TX frequency\n",
    "tx_gain_min = -45 # sdr tx max gain\n",
    "tx_gain_max = 0 # sdr tx min gain\n",
    "rx_gain = 0 # sdr rx gain\n"
   ]
  },
  {
   "cell_type": "code",
   "execution_count": 3,
   "metadata": {},
   "outputs": [],
   "source": [
    "mapping_table_QPSK, de_mapping_table_QPSK = mapping_table(2) # mapping table QPSK (e.g. for pilot symbols)\n",
    "mapping_table_Qm, de_mapping_table_Qm = mapping_table(Qm, plot=False) # mapping table for Qm\n",
    "\n",
    "TTI_mask_RE = TTI_mask(S=S,F=F, Fp=Fp, Sp=Sp, FFT_offset=FFT_offset, plotTTI=False)\n",
    "pilot_symbols = pilot_set(TTI_mask_RE, Pilot_Power)\n",
    "\n",
    "SDR_1 = SDR(SDR_TX_IP=\"ip:192.168.1.10\", SDR_TX_FREQ=SDR_TX_Frequency, SDR_TX_GAIN=-80, SDR_RX_GAIN = 0, SDR_TX_SAMPLERATE=SampleRate, SDR_TX_BANDWIDTH=F*SCS*2)\n",
    "SDR_1.SDR_TX_start()\n"
   ]
  },
  {
   "cell_type": "markdown",
   "metadata": {},
   "source": [
    "Load the model and wights"
   ]
  },
  {
   "cell_type": "code",
   "execution_count": 4,
   "metadata": {},
   "outputs": [
    {
     "data": {
      "text/plain": [
       "<All keys matched successfully>"
      ]
     },
     "execution_count": 4,
     "metadata": {},
     "output_type": "execute_result"
    }
   ],
   "source": [
    "model = RXModel_2(Qm).to(device)\n",
    "\n",
    "checkpoint_path = 'data/rx_model_76.pth'\n",
    "checkpoint = torch.load(checkpoint_path, map_location=device)\n",
    "model.load_state_dict(checkpoint['model_state_dict'])\n"
   ]
  },
  {
   "cell_type": "code",
   "execution_count": 5,
   "metadata": {},
   "outputs": [],
   "source": [
    "def create_OFDM_data():\n",
    "    pdsch_bits, pdsch_symbols = create_PDSCH_data(TTI_mask_RE, Qm, mapping_table_Qm, power=PDSCH_power)\n",
    "    Modulated_TTI = RE_mapping(TTI_mask_RE, pilot_symbols, pdsch_symbols, plotTTI=False)\n",
    "    TD_TTI_IQ = FFT(Modulated_TTI)\n",
    "    TX_Samples = CP_addition(TD_TTI_IQ, S, FFT_size, CP)\n",
    "    zeros = torch.zeros(leading_zeros, dtype=TX_Samples.dtype)\n",
    "    TX_Samples = torch.cat((zeros, TX_Samples), dim=0)\n",
    "    return pdsch_bits, TX_Samples\n",
    "\n",
    "pdsch_bits, TX_Samples = create_OFDM_data()"
   ]
  },
  {
   "cell_type": "code",
   "execution_count": 6,
   "metadata": {},
   "outputs": [],
   "source": [
    "def radio_channel(tx_signal, tx_gain, rx_gain):\n",
    "    SDR_1.SDR_gain_set(tx_gain, rx_gain)\n",
    "    SDR_1.SDR_TX_send(SAMPLES=tx_signal, max_scale=1, cyclic=True)\n",
    "    rx_signal = SDR_1.SDR_RX_receive(len(tx_signal)*4)\n",
    "    SDR_1.SDR_TX_stop()\n",
    "    return rx_signal"
   ]
  },
  {
   "cell_type": "code",
   "execution_count": 7,
   "metadata": {},
   "outputs": [
    {
     "name": "stderr",
     "output_type": "stream",
     "text": [
      "/tmp/ipykernel_305069/2545824784.py:26: UserWarning: To copy construct from a tensor, it is recommended to use sourceTensor.clone().detach() or sourceTensor.clone().detach().requires_grad_(True), rather than torch.tensor(sourceTensor).\n",
      "  binary_predictions = torch.tensor(binary_predictions.squeeze()[TTI_mask_RE_3d==1].flatten().cpu(), dtype=torch.int8)\n"
     ]
    },
    {
     "name": "stdout",
     "output_type": "stream",
     "text": [
      "<module 'torch.nn' from '/home/riku/anaconda3/envs/pytorch310/lib/python3.10/site-packages/torch/nn/__init__.py'>\n"
     ]
    }
   ],
   "source": [
    "# remove DC and FFT offsets from TTI mask_RE and add third dimension size of Qm, and expand TTI mask values into the third dimension\n",
    "TTI_mask_RE_3d = TTI_mask_RE[:, FFT_offset:-FFT_offset]\n",
    "middle_index = TTI_mask_RE_3d.size(1) // 2\n",
    "TTI_mask_RE_3d = torch.cat((TTI_mask_RE_3d[:, :middle_index], TTI_mask_RE_3d[:, middle_index + 1:]), dim=1)\n",
    "TTI_mask_RE_3d = TTI_mask_RE_3d.unsqueeze(-1).expand(S, F-1, Qm)\n",
    "number_of_testcases = 100\n",
    "\n",
    "SINR2BER_table = np.zeros((number_of_testcases,5))\n",
    "\n",
    "for i in range(number_of_testcases):\n",
    "    tx_gain_i = int(random.uniform(tx_gain_min, tx_gain_max))\n",
    "    RX_Samples = radio_channel(tx_signal = TX_Samples, tx_gain = tx_gain_i, rx_gain = rx_gain)\n",
    "    symbol_index=sync_TTI(TX_Samples, RX_Samples, leading_zeros=leading_zeros, threshold= 6, plot=False) + leading_zeros  # find the starting symbol of the TTI from the received signal\n",
    "    SINR_sig = SINR(RX_Samples, symbol_index, leading_zeros=leading_zeros)\n",
    "    RX_NO_CP = CP_removal(RX_Samples, symbol_index, S, FFT_size, CP, plotsig=False)\n",
    "    RX_NO_CP = RX_NO_CP / torch.max(torch.abs(RX_NO_CP))\n",
    "    OFDM_demod = DFT(RX_NO_CP, plotDFT=False)\n",
    "    OFDM_demod = OFDM_demod / torch.max(torch.abs(OFDM_demod)) # normalize DFT'd signal for NN input\n",
    "    \n",
    "    ## NN-receiver\n",
    "    pdsch_symbols_map = remove_fft_Offests(OFDM_demod, F, FFT_offset) # remove FFT offsets\n",
    "    pdsch_symbols_map = torch.cat((pdsch_symbols_map[:, :F//2], pdsch_symbols_map[:, F//2 + 1:]), dim=1).unsqueeze(0) # remove DC\n",
    "\n",
    "    OFDM_NN = model((pdsch_symbols_map.to(device)))\n",
    "    binary_predictions = torch.round(OFDM_NN)\n",
    "    binary_predictions = torch.tensor(binary_predictions.squeeze()[TTI_mask_RE_3d==1].flatten().cpu(), dtype=torch.int8)\n",
    "\n",
    "    # Calculate Bit Error Rate (BER) for the NN-receiver\n",
    "    error_count = torch.sum(binary_predictions.flatten() != pdsch_bits.flatten()).float()  # Count of unequal bits\n",
    "    error_rate = error_count / len(pdsch_bits.flatten())  # Error rate calculation\n",
    "    BER_NN = torch.round(error_rate * 1000) / 1000  # Round to 3 decimal places\n",
    "    \n",
    "    # LS/ZF receiver\n",
    "    H_estim = channelEstimate_LS(TTI_mask_RE, pilot_symbols, F, FFT_offset, Sp, OFDM_demod, plotEst=False)\n",
    "    OFDM_demod_no_offsets = remove_fft_Offests(OFDM_demod, F, FFT_offset)\n",
    "    equalized_H_estim = equalize_ZF(OFDM_demod_no_offsets, H_estim, F, S)\n",
    "    QAM_est = get_payload_symbols(TTI_mask_RE, equalized_H_estim, FFT_offset, F, plotQAM=False)\n",
    "    PS_est, hardDecision = Demapping(QAM_est, de_mapping_table_Qm)\n",
    "    bits_est = PS(PS_est)\n",
    "    error_count = torch.sum(bits_est != pdsch_bits.flatten()).float()  # Count of unequal bits\n",
    "    error_rate = error_count / bits_est.numel()  # Error rate calculation\n",
    "    BER_LSZF = torch.round(error_rate * 1000) / 1000  # Round to 3 decimal places\n",
    "\n",
    "    if (SINR_sig[0] > 8) & (BER_LSZF > 0.4): # possibly when start index calculation fails. remove these\n",
    "        i=i-1\n",
    "    else:\n",
    "        SINR2BER_table[i,0] = round(tx_gain_i,1)\n",
    "        SINR2BER_table[i,1] = round(rx_gain,1)\n",
    "        SINR2BER_table[i,2] = round(SINR_sig[0],1)\n",
    "        SINR2BER_table[i,3] = BER_LSZF\n",
    "        SINR2BER_table[i,4] = BER_NN\n",
    "\n",
    "df = pd.DataFrame(SINR2BER_table, columns=['txg', 'rxg', 'SINR', 'BER_LSZF', 'BER_NN'])\n",
    "\n",
    "directory = 'data'\n",
    "base_filename = 'SINR2BER'\n",
    "\n",
    "# Get a unique filename\n",
    "filename = get_new_filename(directory, base_filename)\n",
    "df.to_csv(os.path.join(directory, filename), index=False)\n",
    "print(nn)\n",
    "    \n"
   ]
  },
  {
   "cell_type": "markdown",
   "metadata": {},
   "source": [
    "## Plot saved SINR2BER csv"
   ]
  },
  {
   "cell_type": "code",
   "execution_count": 8,
   "metadata": {},
   "outputs": [
    {
     "data": {
      "image/png": "[encoded data removed]",
      "text/plain": [
       "<Figure size 600x400 with 1 Axes>"
      ]
     },
     "metadata": {},
     "output_type": "display_data"
    }
   ],
   "source": [
    "import matplotlib.pyplot as plt\n",
    "import pandas as pd\n",
    "import re\n",
    "\n",
    "# Path to the file\n",
    "\n",
    "#file_path = 'data/SINR2BER_0.csv'\n",
    "file_path = os.path.join(directory, filename)\n",
    "\n",
    "# Extract the number from the filename\n",
    "match = re.search(r\"SINR2BER_(\\d+).csv\", file_path)\n",
    "if match:\n",
    "    file_number = match.group(1)\n",
    "else:\n",
    "    file_number = 'unknown'\n",
    "\n",
    "# Read the CSV file into a pandas DataFrame\n",
    "df = pd.read_csv(file_path)\n",
    "BER_NN_mean = round(df['BER_NN'].mean()*1000)/1000\n",
    "BER_LSZF_mean = round(df['BER_LSZF'].mean()*1000)/1000\n",
    "\n",
    "df['SINR_binned'] = pd.cut(df['SINR'], bins=range(-10, 40, 2), labels=range(-9, 39, 2))\n",
    "df_grouped = df.groupby('SINR_binned', observed=False).mean()\n",
    "\n",
    "plt.figure(figsize=(6, 4))\n",
    "plt.xlabel('SINR (dB)')\n",
    "plt.ylabel('Uncoded BER')\n",
    "plt.plot(df_grouped['SINR'], df_grouped['BER_LSZF'], '-o', color='blue', label='LS/ZF', markersize=6)\n",
    "plt.plot(df_grouped['SINR'], df_grouped['BER_NN'], '-^', color='red', label = 'NN', markersize=6)\n",
    "plt.legend()\n",
    "#plt.title(f'Uncoded Bit Error Rate, static\\n BER LS/ZF mean={BER_LSZF_mean}, BER NN mean={BER_NN_mean}')\n",
    "plt.xlim(0, 30)\n",
    "plt.yscale('log')\n",
    "plt.ylim(1e-3, 1)   \n",
    "plt.grid()\n",
    "plt.minorticks_on()\n",
    "plt.tight_layout()\n",
    "plt.grid(which='minor', linestyle=':', linewidth='0.5', color='black')\n",
    "plt.savefig(f'pics/SINR2BER_{file_number}.png')\n",
    "plt.show()"
   ]
  },
  {
   "cell_type": "code",
   "execution_count": null,
   "metadata": {},
   "outputs": [],
   "source": []
  },
  {
   "cell_type": "code",
   "execution_count": null,
   "metadata": {},
   "outputs": [],
   "source": []
  }
 ],
 "metadata": {
  "kernelspec": {
   "display_name": "pytorch310",
   "language": "python",
   "name": "python3"
  },
  "language_info": {
   "codemirror_mode": {
    "name": "ipython",
    "version": 3
   },
   "file_extension": ".py",
   "mimetype": "text/x-python",
   "name": "python",
   "nbconvert_exporter": "python",
   "pygments_lexer": "ipython3",
   "version": "3.10.6"
  }
 },
 "nbformat": 4,
 "nbformat_minor": 2
}

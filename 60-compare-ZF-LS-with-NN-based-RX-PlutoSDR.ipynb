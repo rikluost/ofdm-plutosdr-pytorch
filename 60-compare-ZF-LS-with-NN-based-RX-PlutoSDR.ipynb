{
 "cells": [
  {
   "cell_type": "markdown",
   "metadata": {},
   "source": []
  },
  {
   "cell_type": "markdown",
   "metadata": {},
   "source": [
    "# Receiver comparison with an over the air connection\n"
   ]
  },
  {
   "cell_type": "markdown",
   "metadata": {},
   "source": [
    "## works, but still a first draft"
   ]
  },
  {
   "cell_type": "code",
   "execution_count": null,
   "metadata": {},
   "outputs": [],
   "source": [
    "from config import *\n",
    "from OFDM_SDR_Functions_torch import *\n",
    "import torch\n",
    "from models_local import *\n",
    "from OFDM_SDR_Functions_torch import *\n",
    "from SDR_Pluto import *\n",
    "import random\n",
    "\n",
    "use_sdr = True\n",
    "\n",
    "device = torch.device(\"cuda:0\" if torch.cuda.is_available() else (\"mps\" if torch.backends.mps.is_available() else \"cpu\"))\n",
    "\n",
    "# Display the selected device\n",
    "print(device)\n",
    "\n",
    "# Test tensor creation on the selected device\n",
    "if device.type != \"cpu\":\n",
    "    x = torch.ones(1, device=device)\n",
    "    print(x)\n",
    "\n",
    "device = \"cpu\" # Force CPU for now, trouble with converting complex tensors to mps"
   ]
  },
  {
   "cell_type": "code",
   "execution_count": null,
   "metadata": {},
   "outputs": [],
   "source": [
    "# for SDR\n",
    "SDR_TX_Frequency = int(436e6) # SDR TX frequency\n",
    "tx_gain_min = -50 # sdr tx max gain\n",
    "tx_gain_max = 0 # sdr tx min gain\n",
    "rx_gain = 10 # sdr rx gain\n",
    "\n",
    "\n",
    "# in case SDR not available, for channel simulation\n",
    "ch_SINR_min = 0 # channel emulation min SINR\n",
    "ch_SINR_max = 50 # channel emulation max SINR"
   ]
  },
  {
   "cell_type": "code",
   "execution_count": null,
   "metadata": {},
   "outputs": [],
   "source": [
    "mapping_table_QPSK, de_mapping_table_QPSK = mapping_table(2) # mapping table QPSK (e.g. for pilot symbols)\n",
    "mapping_table_Qm, de_mapping_table_Qm = mapping_table(Qm, plot=False) # mapping table for Qm\n",
    "\n",
    "TTI_mask_RE = TTI_mask(S=S,F=F, Fp=Fp, Sp=Sp, FFT_offset=FFT_offset, plotTTI=False)\n",
    "pilot_symbols = pilot_set(TTI_mask_RE, Pilot_Power)\n"
   ]
  },
  {
   "cell_type": "markdown",
   "metadata": {},
   "source": [
    "Load the model and wights"
   ]
  },
  {
   "cell_type": "code",
   "execution_count": null,
   "metadata": {},
   "outputs": [],
   "source": [
    "\n",
    "model = RXModel(Qm).to(device)\n",
    "\n",
    "# Load the model architecture and weights\n",
    "checkpoint_path = 'data/rx_model_10.pth'\n",
    "checkpoint = torch.load(checkpoint_path, map_location=device)\n",
    "model.load_state_dict(checkpoint['model_state_dict'])\n",
    "model.eval()"
   ]
  },
  {
   "cell_type": "code",
   "execution_count": null,
   "metadata": {},
   "outputs": [],
   "source": [
    "# start the SDR\n",
    "if use_sdr: \n",
    "    SDR_1 = SDR(SDR_TX_IP=\"ip:192.168.1.10\", SDR_TX_FREQ=SDR_TX_Frequency, SDR_TX_GAIN=-80, SDR_RX_GAIN = 0, SDR_TX_SAMPLERATE=SampleRate, SDR_TX_BANDWIDTH=F*SCS*2)\n",
    "    SDR_1.SDR_TX_start()"
   ]
  },
  {
   "cell_type": "code",
   "execution_count": null,
   "metadata": {},
   "outputs": [],
   "source": [
    "def create_OFDM_data():\n",
    "    pdsch_bits, pdsch_symbols = create_PDSCH_data(TTI_mask_RE, Qm, mapping_table_Qm, power=PDSCH_power)\n",
    "    Modulated_TTI = RE_mapping(TTI_mask_RE, pilot_symbols, pdsch_symbols, plotTTI=False)\n",
    "    TD_TTI_IQ = FFT(Modulated_TTI)\n",
    "    TX_Samples = CP_addition(TD_TTI_IQ, S, FFT_size, CP)\n",
    "    zeros = torch.zeros(leading_zeros, dtype=TX_Samples.dtype)\n",
    "    TX_Samples = torch.cat((zeros, TX_Samples), dim=0)\n",
    "    return pdsch_bits, TX_Samples\n",
    "\n",
    "pdsch_bits, TX_Samples = create_OFDM_data()"
   ]
  },
  {
   "cell_type": "code",
   "execution_count": null,
   "metadata": {},
   "outputs": [],
   "source": [
    "def radio_channel(use_sdr, tx_signal, tx_gain, rx_gain, ch_SINR):\n",
    "    if use_sdr:\n",
    "        SDR_1.SDR_gain_set(tx_gain, rx_gain)\n",
    "        SDR_1.SDR_TX_send(SAMPLES=tx_signal, max_scale=1, cyclic=True)\n",
    "        rx_signal = SDR_1.SDR_RX_receive(len(tx_signal)*4)\n",
    "        SDR_1.SDR_TX_stop()\n",
    "    else:\n",
    "        rx_signal  = generate_cdl_c_impulse_response(tx_signal = tx_signal, num_samples=16, sampling_rate=SampleRate, SINR=ch_SINR, repeats = 4, random_start=True)\n",
    "    return rx_signal"
   ]
  },
  {
   "cell_type": "code",
   "execution_count": null,
   "metadata": {},
   "outputs": [],
   "source": [
    "# remove DC and FFT offsets from TTI mask_RE and add third dimension size of Qm, and expand TTI mask values into the third dimension\n",
    "TTI_mask_RE_3d = TTI_mask_RE[:, FFT_offset:-FFT_offset]\n",
    "middle_index = TTI_mask_RE_3d.size(1) // 2\n",
    "TTI_mask_RE_3d = torch.cat((TTI_mask_RE_3d[:, :middle_index], TTI_mask_RE_3d[:, middle_index + 1:]), dim=1)\n",
    "TTI_mask_RE_3d = TTI_mask_RE_3d.unsqueeze(-1).expand(S, F-1, Qm)\n",
    "\n",
    "number_of_testcases = 1000\n",
    "\n",
    "SINR2BER_table = np.zeros((number_of_testcases,5))\n",
    "wrongs = []\n",
    "wrongs_ls = []\n",
    "\n",
    "for i in range(number_of_testcases):\n",
    "    ch_SINR = int(random.uniform(ch_SINR_min, ch_SINR_max))\n",
    "    tx_gain_i = int(random.uniform(tx_gain_min, tx_gain_max))\n",
    "    RX_Samples = radio_channel(use_sdr=use_sdr, tx_signal = TX_Samples, tx_gain = tx_gain_i, rx_gain = rx_gain, ch_SINR = ch_SINR)\n",
    "    symbol_index=sync_TTI(TX_Samples, RX_Samples, leading_zeros)\n",
    "    SINR_sig = SINR(RX_Samples, 100, symbol_index)\n",
    "    RX_NO_CP = CP_removal(RX_Samples, symbol_index, S, FFT_size, CP, plotsig=False)\n",
    "    RX_NO_CP = RX_NO_CP / torch.max(torch.abs(RX_NO_CP))\n",
    "    OFDM_demod = DFT(RX_NO_CP, plotDFT=False)\n",
    "    OFDM_demod = OFDM_demod / torch.max(torch.abs(OFDM_demod)) # normalize DFT'd signal for NN input\n",
    "\n",
    "\n",
    "    ## NN-receiver\n",
    "    # create pilot matrix as in the TTI mask\n",
    "    z, pilot_symbols_map = get_pilot_symbols_raw(TTI_mask_RE, OFDM_demod) # get pilot symbols\n",
    "    pilot_symbols_map = remove_fft_Offests(pilot_symbols_map, F, FFT_offset) # remove FFT offsets\n",
    "    pilot_symbols_map = torch.cat((pilot_symbols_map[:, :F//2], pilot_symbols_map[:, F//2 + 1:]), dim=1).unsqueeze(0)# remove DC\n",
    "    #plt.imshow(torch.abs(pilot_symbols_map.squeeze()))\n",
    "    \n",
    "    # create PDSCH matrix, the same shape\n",
    "    z2, pdsch_symbols_map = get_payload_symbols_raw(TTI_mask_RE, OFDM_demod) # get PDSCH symbols\n",
    "    pdsch_symbols_map = remove_fft_Offests(pdsch_symbols_map, F, FFT_offset) # remove FFT offsets\n",
    "    pdsch_symbols_map = torch.cat((pdsch_symbols_map[:, :F//2], pdsch_symbols_map[:, F//2 + 1:]), dim=1).unsqueeze(0) # remove DC\n",
    "    #plt.imshow(torch.abs(pdsch_symbols_map.squeeze()))\n",
    "\n",
    "    OFDM_NN = model((pdsch_symbols_map.to(device), pilot_symbols_map.to(device)))\n",
    "    binary_predictions = torch.round(OFDM_NN)\n",
    "    binary_predictions = torch.tensor(binary_predictions.squeeze()[TTI_mask_RE_3d==1].flatten().cpu(), dtype=torch.int8)\n",
    "\n",
    "    # Calculate Bit Error Rate (BER) for the NN-receiver\n",
    "    error_count = torch.sum(binary_predictions.flatten() != pdsch_bits.flatten()).float()  # Count of unequal bits\n",
    "    new_wrongs = (binary_predictions.flatten() != pdsch_bits.flatten()).float().tolist()\n",
    "    wrongs.append(new_wrongs)\n",
    "\n",
    "\n",
    "    error_rate = error_count / len(pdsch_bits.flatten())  # Error rate calculation\n",
    "    BER_NN = torch.round(error_rate * 1000) / 1000  # Round to 3 decimal places\n",
    "    \n",
    "\n",
    "    # LS/ZF receiver\n",
    "    H_estim = channelEstimate_LS(TTI_mask_RE, pilot_symbols, F, FFT_offset, Sp, OFDM_demod, plotEst=False)\n",
    "    OFDM_demod_no_offsets = remove_fft_Offests(OFDM_demod, F, FFT_offset)\n",
    "    equalized_H_estim = equalize_ZF(OFDM_demod_no_offsets, H_estim, F, S)\n",
    "    QAM_est = get_payload_symbols(TTI_mask_RE, equalized_H_estim, FFT_offset, F, plotQAM=False)\n",
    "    PS_est, hardDecision = Demapping(QAM_est, de_mapping_table_Qm)\n",
    "    bits_est = PS(PS_est)\n",
    "    error_count = torch.sum(bits_est != pdsch_bits.flatten()).float()  # Count of unequal bits\n",
    "    error_rate = error_count / bits_est.numel()  # Error rate calculation\n",
    "    BER_LSZF = torch.round(error_rate * 1000) / 1000  # Round to 3 decimal places\n",
    "    new_wrongs_ls = (bits_est != pdsch_bits.flatten()).float().tolist()\n",
    "    wrongs_ls.append(new_wrongs_ls)\n",
    "\n",
    "\n",
    "    # Save results\n",
    "    SINR2BER_table[i,0] = round(tx_gain_i,1)\n",
    "    SINR2BER_table[i,1] = round(rx_gain,1)\n",
    "    SINR2BER_table[i,2] = round(SINR_sig[0],1)\n",
    "    SINR2BER_table[i,3] = BER_LSZF\n",
    "    SINR2BER_table[i,4] = BER_NN\n",
    "    "
   ]
  },
  {
   "cell_type": "code",
   "execution_count": null,
   "metadata": {},
   "outputs": [],
   "source": [
    "fig = plt.figure(figsize=(20,20))\n",
    "plt.imshow(wrongs)"
   ]
  },
  {
   "cell_type": "code",
   "execution_count": null,
   "metadata": {},
   "outputs": [],
   "source": [
    "fig = plt.figure(figsize=(20,5))\n",
    "plt.plot(np.sum(wrongs, axis=0))"
   ]
  },
  {
   "cell_type": "code",
   "execution_count": null,
   "metadata": {},
   "outputs": [],
   "source": [
    "fig = plt.figure(figsize=(20,5))\n",
    "plt.plot(np.sum(wrongs_ls, axis=0))"
   ]
  },
  {
   "cell_type": "code",
   "execution_count": null,
   "metadata": {},
   "outputs": [],
   "source": [
    "import pandas as pd\n",
    "\n",
    "df = pd.DataFrame(SINR2BER_table, columns=['txg', 'rxg', 'SINR', 'BER_LSZF', 'BER_NN'])\n",
    "save_plots = False\n",
    "df['SINR_binned'] = pd.cut(df['SINR'], bins=range(-10, 40, 2), labels=range(-9, 39, 2))\n",
    "df_grouped = df.groupby('SINR_binned', observed=False).mean()\n",
    "\n",
    "plt.figure(figsize=(8, 4))\n",
    "plt.plot(df['SINR'], df['BER_LSZF'], 'o', alpha=0.15, markersize=3, c='blue')\n",
    "plt.plot(df['SINR'], df['BER_NN'], 'o', alpha=0.15, markersize=3, c='red')\n",
    "\n",
    "plt.xlabel('SINR (dB)')\n",
    "plt.ylabel('Uncoded BER')\n",
    "plt.plot(df_grouped['SINR'], df_grouped['BER_LSZF'], '-o', color='blue', label='LS/ZF')\n",
    "plt.plot(df_grouped['SINR'], df_grouped['BER_NN'], '-o', color='red', label = 'NN')\n",
    "plt.legend()\n",
    "plt.title(f'OFDM System Uncoded Performance\\n Qm={Qm}, FFT_size={FFT_size}, F={F}, S={S}, Fp={Fp}, Sp={Sp}, CP={CP}, SCS={SCS}\\nPilot_P={Pilot_Power}, PDSCH_P={PDSCH_power}, freq={SDR_TX_Frequency}Hz')\n",
    "plt.xlim(0, 30)\n",
    "plt.yscale('log')\n",
    "plt.ylim(1e-3, 1)   \n",
    "plt.grid()\n",
    "plt.minorticks_on()\n",
    "plt.grid(which='minor', linestyle=':', linewidth='0.5', color='black')\n",
    "if save_plots:\n",
    "    plt.savefig('pics/Performance_LS_nn.png')\n",
    "plt.show()"
   ]
  },
  {
   "cell_type": "code",
   "execution_count": null,
   "metadata": {},
   "outputs": [],
   "source": []
  }
 ],
 "metadata": {
  "kernelspec": {
   "display_name": "pytorch310",
   "language": "python",
   "name": "python3"
  },
  "language_info": {
   "codemirror_mode": {
    "name": "ipython",
    "version": 3
   },
   "file_extension": ".py",
   "mimetype": "text/x-python",
   "name": "python",
   "nbconvert_exporter": "python",
   "pygments_lexer": "ipython3",
   "version": "3.10.6"
  }
 },
 "nbformat": 4,
 "nbformat_minor": 2
}

{
 "cells": [
  {
   "cell_type": "markdown",
   "metadata": {},
   "source": [
    "# Testing the pluto installation"
   ]
  },
  {
   "cell_type": "code",
   "execution_count": 11,
   "metadata": {},
   "outputs": [],
   "source": [
    "# for mac - all I needed was to run the below on linux prompt:\n",
    "# !conda install libad9361-iio\n",
    "# !conda install pyadi-iio\n",
    "\n",
    "from adi import ad9364"
   ]
  },
  {
   "cell_type": "markdown",
   "metadata": {},
   "source": [
    "### The following should return some IQ samples from the RX"
   ]
  },
  {
   "cell_type": "code",
   "execution_count": 12,
   "metadata": {},
   "outputs": [
    {
     "data": {
      "text/plain": [
       "array([  41.-255.j,  220. +87.j,  104.  -5.j,  144.  +1.j, -148. -83.j,\n",
       "       -168.-403.j,  -18.+449.j, -336.-149.j, -410.+174.j,  -52. +72.j])"
      ]
     },
     "execution_count": 12,
     "metadata": {},
     "output_type": "execute_result"
    }
   ],
   "source": [
    "sdr = ad9364('ip:192.168.1.10') # your Pluto's IP\n",
    "sdr.sample_rate = int(10e6)\n",
    "sdr.rx_lo = int(100e6)\n",
    "sdr.rx_rf_bandwidth = int(20e6)\n",
    "sdr.rx_buffer_size = 10\n",
    "sdr.rx()"
   ]
  },
  {
   "cell_type": "code",
   "execution_count": 13,
   "metadata": {},
   "outputs": [
    {
     "name": "stdout",
     "output_type": "stream",
     "text": [
      "100000000\n",
      "2450000000\n",
      "20000000\n",
      "18000000\n",
      "10000000\n",
      "10\n",
      "slow_attack\n",
      "71\n",
      "-10\n",
      "[128.0, 4.0, 128.0, 4.0]\n"
     ]
    }
   ],
   "source": [
    "# get parameters from PlutoSDR\n",
    "print(sdr.rx_lo)\n",
    "print(sdr.tx_lo)\n",
    "print(sdr.rx_rf_bandwidth)\n",
    "print(sdr.tx_rf_bandwidth)\n",
    "print(sdr.sample_rate)\n",
    "print(sdr.rx_buffer_size)\n",
    "print(sdr.gain_control_mode_chan0)\n",
    "print(sdr.rx_hardwaregain_chan0)\n",
    "print(sdr.tx_hardwaregain_chan0)\n",
    "print(sdr.filter)"
   ]
  }
 ],
 "metadata": {
  "kernelspec": {
   "display_name": "pluto311",
   "language": "python",
   "name": "python3"
  },
  "language_info": {
   "codemirror_mode": {
    "name": "ipython",
    "version": 3
   },
   "file_extension": ".py",
   "mimetype": "text/x-python",
   "name": "python",
   "nbconvert_exporter": "python",
   "pygments_lexer": "ipython3",
   "version": "3.10.6"
  }
 },
 "nbformat": 4,
 "nbformat_minor": 2
}

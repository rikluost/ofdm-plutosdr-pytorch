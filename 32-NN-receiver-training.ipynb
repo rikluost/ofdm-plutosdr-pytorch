{
 "cells": [
  {
   "cell_type": "code",
   "execution_count": 1,
   "metadata": {},
   "outputs": [],
   "source": [
    "from config import *\n",
    "import torch\n",
    "from models_local import ResidualBlock\n",
    "from models_local import Model\n",
    "import torch.nn as nn\n",
    "import torch.optim as optim\n",
    "\n",
    "from OFDM_SDR_Functions_torch import *\n",
    "import numpy as np\n",
    "import random\n",
    "from torch.utils.data import Dataset\n",
    "from torch.utils.data import DataLoader"
   ]
  },
  {
   "cell_type": "code",
   "execution_count": 2,
   "metadata": {},
   "outputs": [],
   "source": [
    "import torch\n",
    "from torch.utils.data import Dataset\n",
    "\n",
    "class CustomDataset(Dataset):\n",
    "    def __init__(self):\n",
    "        self.pdsch_iq = []\n",
    "        self.pilot_iq = []\n",
    "        self.labels = []\n",
    "        \n",
    "    def __len__(self):\n",
    "        return len(self.pdsch_iq)\n",
    "    \n",
    "    def __getitem__(self, index):\n",
    "        x1 = self.pdsch_iq[index]\n",
    "        x2 = self.pilot_iq[index]\n",
    "        y = self.labels[index]\n",
    "        return x1, x2, y\n",
    "    \n",
    "    def add_item(self, new_pdsch_iq, new_pilot_iq, new_label):\n",
    "        self.pdsch_iq.append(new_pdsch_iq)\n",
    "        self.pilot_iq.append(new_pilot_iq)\n",
    "        self.labels.append(new_label)\n",
    "        \n",
    "dataset = CustomDataset()"
   ]
  },
  {
   "cell_type": "code",
   "execution_count": 3,
   "metadata": {},
   "outputs": [],
   "source": [
    "dataset = torch.load('ofdm_dataset.pth')"
   ]
  },
  {
   "cell_type": "code",
   "execution_count": 4,
   "metadata": {},
   "outputs": [],
   "source": [
    "model = Model(S, F, Qm)\n",
    "train_loader = torch.utils.data.DataLoader(dataset, batch_size=2, shuffle=True)\n",
    "optimizer = optim.Adam(model.parameters(), lr=0.001)\n",
    "criterion = nn.CrossEntropyLoss()"
   ]
  },
  {
   "cell_type": "code",
   "execution_count": 7,
   "metadata": {},
   "outputs": [
    {
     "ename": "AttributeError",
     "evalue": "'CustomDataset' object has no attribute 'data'",
     "output_type": "error",
     "traceback": [
      "\u001b[0;31m---------------------------------------------------------------------------\u001b[0m",
      "\u001b[0;31mAttributeError\u001b[0m                            Traceback (most recent call last)",
      "\u001b[1;32m/Users/riku/projects_mac/ofdm-plutosdr-pytorch/32-NN-receiver-training.ipynb Cell 6\u001b[0m line \u001b[0;36m4\n\u001b[1;32m      <a href='vscode-notebook-cell:/Users/riku/projects_mac/ofdm-plutosdr-pytorch/32-NN-receiver-training.ipynb#X16sZmlsZQ%3D%3D?line=0'>1</a>\u001b[0m \u001b[39m#make a training loop\u001b[39;00m\n\u001b[1;32m      <a href='vscode-notebook-cell:/Users/riku/projects_mac/ofdm-plutosdr-pytorch/32-NN-receiver-training.ipynb#X16sZmlsZQ%3D%3D?line=1'>2</a>\u001b[0m num_epochs \u001b[39m=\u001b[39m \u001b[39m100\u001b[39m\n\u001b[0;32m----> <a href='vscode-notebook-cell:/Users/riku/projects_mac/ofdm-plutosdr-pytorch/32-NN-receiver-training.ipynb#X16sZmlsZQ%3D%3D?line=3'>4</a>\u001b[0m data_loader \u001b[39m=\u001b[39m DataLoader(dataset, batch_size\u001b[39m=\u001b[39;49m\u001b[39m32\u001b[39;49m, shuffle\u001b[39m=\u001b[39;49m\u001b[39mTrue\u001b[39;49;00m)\n\u001b[1;32m      <a href='vscode-notebook-cell:/Users/riku/projects_mac/ofdm-plutosdr-pytorch/32-NN-receiver-training.ipynb#X16sZmlsZQ%3D%3D?line=5'>6</a>\u001b[0m \u001b[39m# Create an instance of the Rx1Model\u001b[39;00m\n\u001b[1;32m      <a href='vscode-notebook-cell:/Users/riku/projects_mac/ofdm-plutosdr-pytorch/32-NN-receiver-training.ipynb#X16sZmlsZQ%3D%3D?line=6'>7</a>\u001b[0m model \u001b[39m=\u001b[39m Model(S, F, Qm)\n",
      "File \u001b[0;32m~/miniforge3/envs/pluto311/lib/python3.11/site-packages/torch/utils/data/dataloader.py:349\u001b[0m, in \u001b[0;36mDataLoader.__init__\u001b[0;34m(self, dataset, batch_size, shuffle, sampler, batch_sampler, num_workers, collate_fn, pin_memory, drop_last, timeout, worker_init_fn, multiprocessing_context, generator, prefetch_factor, persistent_workers, pin_memory_device)\u001b[0m\n\u001b[1;32m    347\u001b[0m \u001b[39melse\u001b[39;00m:  \u001b[39m# map-style\u001b[39;00m\n\u001b[1;32m    348\u001b[0m     \u001b[39mif\u001b[39;00m shuffle:\n\u001b[0;32m--> 349\u001b[0m         sampler \u001b[39m=\u001b[39m RandomSampler(dataset, generator\u001b[39m=\u001b[39;49mgenerator)  \u001b[39m# type: ignore[arg-type]\u001b[39;00m\n\u001b[1;32m    350\u001b[0m     \u001b[39melse\u001b[39;00m:\n\u001b[1;32m    351\u001b[0m         sampler \u001b[39m=\u001b[39m SequentialSampler(dataset)  \u001b[39m# type: ignore[arg-type]\u001b[39;00m\n",
      "File \u001b[0;32m~/miniforge3/envs/pluto311/lib/python3.11/site-packages/torch/utils/data/sampler.py:139\u001b[0m, in \u001b[0;36mRandomSampler.__init__\u001b[0;34m(self, data_source, replacement, num_samples, generator)\u001b[0m\n\u001b[1;32m    136\u001b[0m \u001b[39mif\u001b[39;00m \u001b[39mnot\u001b[39;00m \u001b[39misinstance\u001b[39m(\u001b[39mself\u001b[39m\u001b[39m.\u001b[39mreplacement, \u001b[39mbool\u001b[39m):\n\u001b[1;32m    137\u001b[0m     \u001b[39mraise\u001b[39;00m \u001b[39mTypeError\u001b[39;00m(\u001b[39mf\u001b[39m\u001b[39m\"\u001b[39m\u001b[39mreplacement should be a boolean value, but got replacement=\u001b[39m\u001b[39m{\u001b[39;00m\u001b[39mself\u001b[39m\u001b[39m.\u001b[39mreplacement\u001b[39m}\u001b[39;00m\u001b[39m\"\u001b[39m)\n\u001b[0;32m--> 139\u001b[0m \u001b[39mif\u001b[39;00m \u001b[39mnot\u001b[39;00m \u001b[39misinstance\u001b[39m(\u001b[39mself\u001b[39;49m\u001b[39m.\u001b[39;49mnum_samples, \u001b[39mint\u001b[39m) \u001b[39mor\u001b[39;00m \u001b[39mself\u001b[39m\u001b[39m.\u001b[39mnum_samples \u001b[39m<\u001b[39m\u001b[39m=\u001b[39m \u001b[39m0\u001b[39m:\n\u001b[1;32m    140\u001b[0m     \u001b[39mraise\u001b[39;00m \u001b[39mValueError\u001b[39;00m(\u001b[39mf\u001b[39m\u001b[39m\"\u001b[39m\u001b[39mnum_samples should be a positive integer value, but got num_samples=\u001b[39m\u001b[39m{\u001b[39;00m\u001b[39mself\u001b[39m\u001b[39m.\u001b[39mnum_samples\u001b[39m}\u001b[39;00m\u001b[39m\"\u001b[39m)\n",
      "File \u001b[0;32m~/miniforge3/envs/pluto311/lib/python3.11/site-packages/torch/utils/data/sampler.py:146\u001b[0m, in \u001b[0;36mRandomSampler.num_samples\u001b[0;34m(self)\u001b[0m\n\u001b[1;32m    142\u001b[0m \u001b[39m@property\u001b[39m\n\u001b[1;32m    143\u001b[0m \u001b[39mdef\u001b[39;00m \u001b[39mnum_samples\u001b[39m(\u001b[39mself\u001b[39m) \u001b[39m-\u001b[39m\u001b[39m>\u001b[39m \u001b[39mint\u001b[39m:\n\u001b[1;32m    144\u001b[0m     \u001b[39m# dataset size might change at runtime\u001b[39;00m\n\u001b[1;32m    145\u001b[0m     \u001b[39mif\u001b[39;00m \u001b[39mself\u001b[39m\u001b[39m.\u001b[39m_num_samples \u001b[39mis\u001b[39;00m \u001b[39mNone\u001b[39;00m:\n\u001b[0;32m--> 146\u001b[0m         \u001b[39mreturn\u001b[39;00m \u001b[39mlen\u001b[39;49m(\u001b[39mself\u001b[39;49m\u001b[39m.\u001b[39;49mdata_source)\n\u001b[1;32m    147\u001b[0m     \u001b[39mreturn\u001b[39;00m \u001b[39mself\u001b[39m\u001b[39m.\u001b[39m_num_samples\n",
      "\u001b[1;32m/Users/riku/projects_mac/ofdm-plutosdr-pytorch/32-NN-receiver-training.ipynb Cell 6\u001b[0m line \u001b[0;36m1\n\u001b[1;32m     <a href='vscode-notebook-cell:/Users/riku/projects_mac/ofdm-plutosdr-pytorch/32-NN-receiver-training.ipynb#X16sZmlsZQ%3D%3D?line=9'>10</a>\u001b[0m \u001b[39mdef\u001b[39;00m \u001b[39m__len__\u001b[39m(\u001b[39mself\u001b[39m):\n\u001b[0;32m---> <a href='vscode-notebook-cell:/Users/riku/projects_mac/ofdm-plutosdr-pytorch/32-NN-receiver-training.ipynb#X16sZmlsZQ%3D%3D?line=10'>11</a>\u001b[0m     \u001b[39mreturn\u001b[39;00m \u001b[39mlen\u001b[39m(\u001b[39mself\u001b[39;49m\u001b[39m.\u001b[39;49mdata)\n",
      "\u001b[0;31mAttributeError\u001b[0m: 'CustomDataset' object has no attribute 'data'"
     ]
    }
   ],
   "source": [
    "#make a training loop\n",
    "num_epochs = 100\n",
    "\n",
    "data_loader = DataLoader(dataset, batch_size=32, shuffle=True)\n",
    "\n",
    "# Create an instance of the Rx1Model\n",
    "model = Model(S, F, Qm)\n",
    "\n",
    "# Define loss function and optimizer\n",
    "criterion = nn.CrossEntropyLoss()\n",
    "optimizer = optim.Adam(model.parameters(), lr=0.001)\n",
    "\n",
    "# Training loop\n",
    "for epoch in range(num_epochs):\n",
    "    total_loss = 0.0\n",
    "\n",
    "    for pilot_iq, pdsch_iq, labels in data_loader:\n",
    "        # Zero the gradients\n",
    "        optimizer.zero_grad()\n",
    "\n",
    "        # Forward pass\n",
    "        outputs = model(pilot_iq, pdsch_iq)\n",
    "\n",
    "        # Compute the loss\n",
    "        loss = criterion(outputs, labels)\n",
    "\n",
    "        # Backward pass\n",
    "        loss.backward()\n",
    "\n",
    "        # Update the weights\n",
    "        optimizer.step()\n",
    "\n",
    "        # Accumulate the total loss\n",
    "        total_loss += loss.item()\n",
    "\n",
    "    # Print average loss for the epoch\n",
    "    average_loss = total_loss / len(data_loader)\n",
    "    print(f\"Epoch [{epoch+1}/{num_epochs}], Loss: {average_loss:.4f}\")\n",
    "\n",
    "# Save the trained model if needed\n",
    "torch.save(model.state_dict(), 'rx1_model.pth')\n"
   ]
  },
  {
   "cell_type": "code",
   "execution_count": null,
   "metadata": {},
   "outputs": [
    {
     "ename": "NameError",
     "evalue": "name 'number_of_testcases' is not defined",
     "output_type": "error",
     "traceback": [
      "\u001b[0;31m---------------------------------------------------------------------------\u001b[0m",
      "\u001b[0;31mNameError\u001b[0m                                 Traceback (most recent call last)",
      "\u001b[1;32m/Users/riku/projects_mac/ofdm-plutosdr-pytorch/32-NN-receiver-training.ipynb Cell 6\u001b[0m line \u001b[0;36m3\n\u001b[1;32m      <a href='vscode-notebook-cell:/Users/riku/projects_mac/ofdm-plutosdr-pytorch/32-NN-receiver-training.ipynb#W3sZmlsZQ%3D%3D?line=0'>1</a>\u001b[0m training \u001b[39m=\u001b[39m \u001b[39m100\u001b[39m\n\u001b[0;32m----> <a href='vscode-notebook-cell:/Users/riku/projects_mac/ofdm-plutosdr-pytorch/32-NN-receiver-training.ipynb#W3sZmlsZQ%3D%3D?line=2'>3</a>\u001b[0m SINR2BER_table \u001b[39m=\u001b[39m np\u001b[39m.\u001b[39mzeros((number_of_testcases,\u001b[39m4\u001b[39m))\n\u001b[1;32m      <a href='vscode-notebook-cell:/Users/riku/projects_mac/ofdm-plutosdr-pytorch/32-NN-receiver-training.ipynb#W3sZmlsZQ%3D%3D?line=3'>4</a>\u001b[0m \u001b[39m#symbol_index = 1\u001b[39;00m\n\u001b[1;32m      <a href='vscode-notebook-cell:/Users/riku/projects_mac/ofdm-plutosdr-pytorch/32-NN-receiver-training.ipynb#W3sZmlsZQ%3D%3D?line=4'>5</a>\u001b[0m \u001b[39m#tx_gain_i=0\u001b[39;00m\n\u001b[1;32m      <a href='vscode-notebook-cell:/Users/riku/projects_mac/ofdm-plutosdr-pytorch/32-NN-receiver-training.ipynb#W3sZmlsZQ%3D%3D?line=5'>6</a>\u001b[0m \u001b[39m#rx_gain=0\u001b[39;00m\n\u001b[1;32m      <a href='vscode-notebook-cell:/Users/riku/projects_mac/ofdm-plutosdr-pytorch/32-NN-receiver-training.ipynb#W3sZmlsZQ%3D%3D?line=6'>7</a>\u001b[0m \u001b[39m# Here channel simulations are used for training the model\u001b[39;00m\n\u001b[1;32m      <a href='vscode-notebook-cell:/Users/riku/projects_mac/ofdm-plutosdr-pytorch/32-NN-receiver-training.ipynb#W3sZmlsZQ%3D%3D?line=8'>9</a>\u001b[0m ch_SINR_min \u001b[39m=\u001b[39m \u001b[39m20\u001b[39m \u001b[39m# channel emulation min SINR\u001b[39;00m\n",
      "\u001b[0;31mNameError\u001b[0m: name 'number_of_testcases' is not defined"
     ]
    }
   ],
   "source": [
    "training_loops = 100\n",
    "\n",
    "#symbol_index = 1\n",
    "#tx_gain_i=0\n",
    "#rx_gain=0\n",
    "# Here channel simulations are used for training the model\n",
    "\n",
    "ch_SINR_min = 20 # channel emulation min SINR\n",
    "ch_SINR_max = 20 # channel emulation max SINR\n",
    "\n",
    "for i in range(number_of_testcases):\n",
    "    if i % 100 == 0:\n",
    "        print(i)\n",
    "    ch_SINR = int(random.uniform(ch_SINR_min, ch_SINR_max)) # SINR generation\n",
    "    pdsch_bits, TX_Samples = create_OFDM_data() # data stream\n",
    "    RX_Samples = generate_cdl_c_impulse_response(tx_signal = TX_Samples, num_samples=100, sampling_rate=SampleRate, SINR=ch_SINR, repeats = 2, random_start=False) # convolve channel with tx signal\n",
    "    #symbol_index=sync_TTI(TX_Samples, RX_Samples, leading_zeros)\n",
    "    #SINR_meas, noise_power, signal_power = SINR(RX_Samples, 400, symbol_index)\n",
    "    RX_NO_CP = CP_removal(RX_Samples, 0, S, FFT_size, CP, plotsig=False)\n",
    "    RX_NO_CP = RX_NO_CP / torch.max(torch.abs(RX_NO_CP))\n",
    "    OFDM_demod = DFT(RX_NO_CP, plotDFT=False)\n",
    "    \n",
    "    \n",
    "    # H_estim = channelEstimate_LS(TTI_mask_RE, pilot_symbols, F, FFT_offset, Sp, OFDM_demod, plotEst=False)\n",
    "    # OFDM_demod_no_offsets = remove_fft_Offests(OFDM_demod, F, FFT_offset)\n",
    "    # equalized_H_estim = equalize_ZF(OFDM_demod_no_offsets, H_estim, F, S)\n",
    "    # QAM_est = get_payload_symbols(TTI_mask_RE, equalized_H_estim, FFT_offset, F, plotQAM=False)\n",
    "    # PS_est, hardDecision = Demapping(QAM_est, de_mapping_table_Qm)\n",
    "    # bits_est = PS(PS_est)\n",
    "    # error_count = torch.sum(bits_est != pdsch_bits.flatten()).float()  # Count of unequal bits\n",
    "    # error_rate = error_count / bits_est.numel()  # Error rate calculation\n",
    "    # BER = round(error_rate.item(),3)  # Round to 3 decimal places\n",
    "    # # SINR2BER_table[i,0] = round(tx_gain_i,1)\n",
    "    # SINR2BER_table[i,1] = round(rx_gain,1)\n",
    "    # SINR2BER_table[i,2] = round(SINR_meas,1)\n",
    "    # SINR2BER_table[i,3] = round(BER,1)\n",
    "    dataset.add_item(OFDM_demod, pdsch_bits)\n",
    "    \n",
    "torch.save(dataset, 'ofdm_dataset.pth')\n",
    "    "
   ]
  },
  {
   "cell_type": "code",
   "execution_count": null,
   "metadata": {},
   "outputs": [],
   "source": []
  },
  {
   "cell_type": "code",
   "execution_count": null,
   "metadata": {},
   "outputs": [],
   "source": []
  }
 ],
 "metadata": {
  "kernelspec": {
   "display_name": "pluto311",
   "language": "python",
   "name": "python3"
  },
  "language_info": {
   "codemirror_mode": {
    "name": "ipython",
    "version": 3
   },
   "file_extension": ".py",
   "mimetype": "text/x-python",
   "name": "python",
   "nbconvert_exporter": "python",
   "pygments_lexer": "ipython3",
   "version": "3.11.6"
  }
 },
 "nbformat": 4,
 "nbformat_minor": 2
}
